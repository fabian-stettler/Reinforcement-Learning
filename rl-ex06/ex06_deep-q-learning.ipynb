{
 "cells": [
  {
   "cell_type": "markdown",
   "id": "7ccbf74e-1fcb-40c2-98d7-c30d0f73f252",
   "metadata": {},
   "source": [
    "# Deep Q Learning\n",
    "\n",
    "In this exercise we will build a simple deep Q-learning agent from scratch. For this we need to look at the following tasks:\n",
    "* How do we specify the model?\n",
    "* How do we calculate an action?\n",
    "* How do we sample episodes?\n",
    "* How do we train the model?\n",
    "\n",
    "We will develop this by implementing a class for the agent. We will use a package called jdc, that will allow us to split the implementation of a class over several cells.\n",
    "\n",
    "We will be using torch for the implementation of the neural network and the training."
   ]
  },
  {
   "cell_type": "code",
   "execution_count": 1,
   "id": "18836b84-bfcc-4d2e-a25c-cd1d9dbef9f1",
   "metadata": {},
   "outputs": [
    {
     "name": "stdout",
     "output_type": "stream",
     "text": [
      "Requirement already satisfied: jdc in /opt/conda/lib/python3.12/site-packages (0.0.9)\n"
     ]
    }
   ],
   "source": [
    "!pip install jdc\n",
    "import jdc\n",
    "import numpy as np\n",
    "import tqdm\n",
    "import gymnasium as gym\n",
    "\n",
    "from collections import deque\n",
    "\n",
    "import torch\n",
    "import torch.nn as nn\n",
    "import torch.optim as optim\n",
    "\n",
    "import matplotlib\n",
    "import matplotlib.pyplot as plt\n",
    "import pyglet\n",
    "import ipywidgets\n",
    "from IPython import display\n",
    "\n",
    "%matplotlib inline\n"
   ]
  },
  {
   "cell_type": "markdown",
   "id": "18d78c58-adcf-4645-9916-1a3316121f12",
   "metadata": {},
   "source": [
    "## Example: Cart Pole\n",
    "We will use an environment from OpenAI for this exercise. The goal is to balance a pole by moving the attached cart to the left or to the right. As the pole should be balanced as long as possible, the reward for each time step is +1. An episode is done when the angle of the pole becomes too large.\n",
    "\n",
    "The observation space gives some measurements about the pole, for example the angle. However, we actually do not need to know the specific details, as the neural network will just learn using the input.\n",
    "\n",
    "The actions are to move the cart to the left or to the right."
   ]
  },
  {
   "cell_type": "code",
   "execution_count": 2,
   "id": "db6fccfa-3da9-4939-a71e-f1ae82ceb64e",
   "metadata": {},
   "outputs": [
    {
     "name": "stdout",
     "output_type": "stream",
     "text": [
      "Observation space: Box([-4.8               -inf -0.41887903        -inf], [4.8               inf 0.41887903        inf], (4,), float32)\n",
      "Action space: Discrete(2)\n",
      "Sample from the observation space: [ 4.21415     0.5104905  -0.40308246 -0.5030688 ]\n"
     ]
    }
   ],
   "source": [
    "environment_name = 'CartPole-v1'\n",
    "env = gym.make(environment_name, render_mode='rgb_array')\n",
    "\n",
    "print(f'Observation space: {env.observation_space}')\n",
    "print(f'Action space: {env.action_space}')\n",
    "\n",
    "print(f'Sample from the observation space: {env.observation_space.sample()}')"
   ]
  },
  {
   "cell_type": "markdown",
   "id": "c21b6bac-94a9-42ec-ad59-9a5bade325e3",
   "metadata": {},
   "source": [
    "The environment has a render function that we can use to display the state. The parameter 'render_mode' is used to specify the mode. For standalone applications, we can use 'human' that will open a window. Here we get the image as an array and display it using matplotlib."
   ]
  },
  {
   "cell_type": "code",
   "execution_count": 3,
   "id": "20961d56-4fe5-45d4-b67b-b791cb864706",
   "metadata": {},
   "outputs": [
    {
     "name": "stderr",
     "output_type": "stream",
     "text": [
      "error: XDG_RUNTIME_DIR is invalid or not set in the environment.\n"
     ]
    },
    {
     "data": {
      "image/png": "[encoded data removed]",
      "text/plain": [
       "<Figure size 640x480 with 1 Axes>"
      ]
     },
     "metadata": {},
     "output_type": "display_data"
    }
   ],
   "source": [
    "env.reset()\n",
    "plt.imshow(env.render())\n",
    "plt.show()"
   ]
  },
  {
   "cell_type": "markdown",
   "id": "2fc811ef-a89b-4dd0-b385-c199d8a535d5",
   "metadata": {},
   "source": [
    "We can also try to render a sequence of images. Depending on your browser the display might not be optimal...\n"
   ]
  },
  {
   "cell_type": "code",
   "execution_count": 4,
   "id": "780d4e76-70ea-45b4-9b90-205cf6dbeb5c",
   "metadata": {},
   "outputs": [
    {
     "data": {
      "image/png": "[encoded data removed]",
      "text/plain": [
       "<Figure size 600x400 with 1 Axes>"
      ]
     },
     "metadata": {},
     "output_type": "display_data"
    }
   ],
   "source": [
    "def display_environment(env):\n",
    "    plt.figure(figsize=(6,4))\n",
    "    plt.imshow(env.render())\n",
    "    plt.axis('off') \n",
    "    display.display(plt.gcf())\n",
    "    display.clear_output(wait=True)\n",
    "    plt.close()\n",
    "\n",
    "# Test the function with a few steps\n",
    "env.reset()\n",
    "for _ in range(50):\n",
    "    env.step(env.action_space.sample())  # Take a random action\n",
    "    display_environment(env)\n",
    "\n"
   ]
  },
  {
   "cell_type": "markdown",
   "id": "3e72df12-f213-4217-84fe-4b18b9bbdb94",
   "metadata": {},
   "source": [
    "## Build the model\n",
    "\n",
    "Our agent will use the class of the neural network (the model) as parameter, so that we can call it using different models. The first task is to write a example class that for the neural network. We will pass the number of observation values and the number of actions values as parameters.\n",
    "\n",
    "The model must calculate the q function for each state. We will also need to access those values for evaluation.\n",
    "\n",
    "Build a sequential model using at least two dense layers. \n"
   ]
  },
  {
   "cell_type": "code",
   "execution_count": 5,
   "id": "91ab168b-042e-403a-8e32-e5d2e98e721e",
   "metadata": {},
   "outputs": [],
   "source": [
    "def get_device():\n",
    "    if torch.cuda.is_available():\n",
    "        device = torch.device('cuda')\n",
    "        # test if it worked\n",
    "        x = torch.ones(1, device=device)\n",
    "        print('Using CUDA device')\n",
    "\n",
    "    elif torch.backends.mps.is_available():\n",
    "        device = torch.device('mps')\n",
    "        x = torch.ones(1, device=device)\n",
    "        print('Using MPS device')\n",
    "    else:\n",
    "        print('Using CPU')\n",
    "        device = torch.device('cpu')\n",
    "    return device"
   ]
  },
  {
   "cell_type": "code",
   "execution_count": 6,
   "id": "afc9c401-f28d-4ed5-bfde-5990b8f3de02",
   "metadata": {
    "deletable": false,
    "nbgrader": {
     "cell_type": "code",
     "checksum": "a4f4206b89ef19b7d4ab280852a1f0bc",
     "grade": false,
     "grade_id": "cell-5f57f2a0435bd064",
     "locked": false,
     "schema_version": 3,
     "solution": true,
     "task": false
    }
   },
   "outputs": [],
   "source": [
    "class DQNetwork(nn.Module):\n",
    "    def __init__(self, n_obs, n_action):\n",
    "        super(DQNetwork, self).__init__()\n",
    "        # generate a sequential model in a internal variable (for example self.fc)\n",
    "        # YOUR CODE HERE\n",
    "        self.fc = nn.Sequential(\n",
    "            nn.Linear(n_obs, 32),\n",
    "            nn.ReLU(),\n",
    "            nn.Linear(32, n_action)\n",
    "        )\n",
    "\n",
    "    def forward(self, x_tensor):\n",
    "        # forward should just call you model\n",
    "        # YOUR CODE HERE\n",
    "        return self.fc(x_tensor)\n",
    "\n",
    "    def q_values(self, obs_tensor):\n",
    "        with torch.no_grad():\n",
    "            q = self.forward(obs_tensor)\n",
    "        return q"
   ]
  },
  {
   "cell_type": "code",
   "execution_count": 7,
   "id": "9787f0e3-966e-4d85-94f8-e3950d45f90a",
   "metadata": {
    "deletable": false,
    "editable": false,
    "nbgrader": {
     "cell_type": "code",
     "checksum": "7f9879b8c8b060c8ca5b8a646a2825b5",
     "grade": true,
     "grade_id": "cell-02f08792391930df",
     "locked": true,
     "points": 1,
     "schema_version": 3,
     "solution": false,
     "task": false
    }
   },
   "outputs": [
    {
     "name": "stdout",
     "output_type": "stream",
     "text": [
      "DQNetwork(\n",
      "  (fc): Sequential(\n",
      "    (0): Linear(in_features=4, out_features=32, bias=True)\n",
      "    (1): ReLU()\n",
      "    (2): Linear(in_features=32, out_features=2, bias=True)\n",
      "  )\n",
      ")\n"
     ]
    }
   ],
   "source": [
    "m = DQNetwork(env.observation_space.shape[0], env.action_space.n)\n",
    "print(m)\n",
    "\n",
    "\n",
    "obs_sample = env.observation_space.sample()\n",
    "\n",
    "# models expect a batch of data, so we have to add a dimension and convert it to a tensor\n",
    "obs_batch = np.expand_dims(obs_sample, axis=0)\n",
    "obs_batch_tensor = torch.from_numpy(obs_batch).float()\n",
    "action_values = m.q_values(obs_batch_tensor)\n",
    "assert action_values.shape == (1,2)\n",
    "\n"
   ]
  },
  {
   "cell_type": "markdown",
   "id": "d1acfd08-b0fe-41e2-9ad3-47ef889cfa55",
   "metadata": {},
   "source": [
    "### Device managment in torch\n",
    "\n",
    "In order to use the gpu, we have to move our models to the device. We will also set this as\n",
    "default device, so that any tensors will be initialized on it and we don't have to specify them every time.\n",
    "\n",
    "In the code, we will use _tensor whenever a torch tensor is used."
   ]
  },
  {
   "cell_type": "code",
   "execution_count": 8,
   "id": "ef3cfd11-13eb-4fd3-a850-e3a0262446aa",
   "metadata": {},
   "outputs": [
    {
     "name": "stdout",
     "output_type": "stream",
     "text": [
      "Using CUDA device\n"
     ]
    }
   ],
   "source": [
    "device = get_device()\n",
    "torch.set_default_device(device)"
   ]
  },
  {
   "cell_type": "markdown",
   "id": "705cd294-1491-4191-a25b-de8aafcd7762",
   "metadata": {},
   "source": [
    "## Agent class\n",
    "\n",
    "Now we are ready to implement the agent class. Check the parameters and their descriptions as they will be used in the implementation and you will have to find suitable hyperparameters for them.\n",
    "\n",
    "\n",
    "The only thing to fill out is the optimizer and the loss function. \n",
    "\n",
    "There are different optimizers available, either standand SGD or Adam would be possible and should be initialized with the learning rate given in the parameters.\n",
    "\n",
    "What is the loss function that we have to use?\n"
   ]
  },
  {
   "cell_type": "code",
   "execution_count": 9,
   "id": "11fc0213-5dc9-4f23-ab2d-1d44d983a144",
   "metadata": {
    "deletable": false,
    "nbgrader": {
     "cell_type": "code",
     "checksum": "dc682665d090e45871c7275589f8d3fd",
     "grade": false,
     "grade_id": "cell-8c19c66d131c3fbd",
     "locked": false,
     "schema_version": 3,
     "solution": true,
     "task": false
    }
   },
   "outputs": [],
   "source": [
    "class DQNAgent:\n",
    "    def __init__(self, \n",
    "                 observation_space, \n",
    "                 action_space,\n",
    "                 model_cls,\n",
    "                 device,\n",
    "                 gamma: float,\n",
    "                 epsilon: float, epsilon_decay: float, epsilon_min: float,\n",
    "                 learning_rate: float, training_frequency: int, target_update_frequency: int,\n",
    "                 tau : float, use_double_dqn: bool,\n",
    "                 batch_size: int, memory_size: int):\n",
    "        \"\"\"\n",
    "        Initialise the agent.\n",
    "        Args:\n",
    "            observation_space: The observation space of the environment\n",
    "            action_space: The action space of the environment\n",
    "            model_cls: the class that implements the model,\n",
    "            device: the device to run torch on\n",
    "            gamma: The discount factor\n",
    "            epsilon: The initial epsilon value for the epsilon-greedy policy\n",
    "            epsilon_decay: The decay factor for the epsilon value\n",
    "            epsilon_min: The minimal epsilon value after which it will not be decayed further\n",
    "            learning_rate: The learning rate for the optimizer\n",
    "            training_frequency: The frequency (in steps) of training the model\n",
    "            target_update_frequency: The frequency (in steps) of updating the target model (if not using tau)\n",
    "            tau: weight of the new model in the target update \n",
    "            use_double_dqn: use double q learning\n",
    "            batch_size: The batch size for training (sampled from the memory)\n",
    "            memory_size: The size of the memory for storing experiences\n",
    "        \"\"\"\n",
    "        self.observation_space = observation_space\n",
    "        self.action_space = action_space\n",
    "    \n",
    "        # hyperparameters from parameters\n",
    "        self.gamma = gamma\n",
    "        self.epsilon = epsilon\n",
    "        self.epsilon_decay = epsilon_decay\n",
    "        self.epsilon_min = epsilon_min\n",
    "        self.learning_rate = learning_rate\n",
    "        self.memory = deque(maxlen=memory_size)\n",
    "        self.batch_size = batch_size\n",
    "        self.training_frequency = training_frequency\n",
    "        self.target_update_frequency = target_update_frequency\n",
    "    \n",
    "        self.use_double_dqn = use_double_dqn\n",
    "        self.tau = tau\n",
    "\n",
    "        self.nr_training_steps = 0\n",
    "    \n",
    "        # internal variables\n",
    "        self.nr_steps = 0\n",
    "    \n",
    "        self.last_action = None\n",
    "        self.last_obs = None\n",
    "\n",
    "        self.device = device\n",
    "    \n",
    "        # build the models\n",
    "        # self.model = DQNetwork(observation_space.shape[0], action_space.n)\n",
    "        # self.target_model = DQNetwork(observation_space.shape[0], action_space.n)\n",
    "        self.model = model_cls(self.observation_space.shape[0], self.action_space.n)\n",
    "        self.target_model = model_cls(self.observation_space.shape[0], self.action_space.n)\n",
    "\n",
    "        self.model = self.model.to(self.device)\n",
    "        self.target_model = self.target_model.to(self.device)\n",
    "\n",
    "        \n",
    "        self.optimizer = None\n",
    "        self.loss = None \n",
    "\n",
    "        # generate the optimizer and loss function in the variables above\n",
    "        # YOUR CODE HERE\n",
    "        self.optimizer = optim.Adam(self.model.parameters() ,lr=learning_rate)\n",
    "        self.loss = nn.MSELoss(reduction='mean')\n",
    "\n",
    "    def reset(self):\n",
    "        \"\"\"\n",
    "        Reset the agent to the initial state\n",
    "        \"\"\"\n",
    "        self.nr_steps = 0\n",
    "        self.last_action = None\n",
    "        self.last_obs = None\n",
    "        self.nr_training_steps = 0\n",
    "    "
   ]
  },
  {
   "cell_type": "code",
   "execution_count": 10,
   "id": "a4cf988c-24c5-4b8e-ad91-e79fec78d7b4",
   "metadata": {
    "deletable": false,
    "editable": false,
    "nbgrader": {
     "cell_type": "code",
     "checksum": "0ee19ca899da78a8af841c665edc8caf",
     "grade": true,
     "grade_id": "cell-6638146a1a48950b",
     "locked": true,
     "points": 1,
     "schema_version": 3,
     "solution": false,
     "task": false
    }
   },
   "outputs": [],
   "source": [
    "q_agent = DQNAgent(env.observation_space, env.action_space,\n",
    "                       gamma=0.99,\n",
    "                       epsilon=0.5,\n",
    "                       model_cls=DQNetwork,\n",
    "                       device=device,\n",
    "                       epsilon_min=0.03,\n",
    "                       epsilon_decay=0.9,\n",
    "                       learning_rate=0.0005,\n",
    "                       training_frequency=1,\n",
    "                       target_update_frequency=2,\n",
    "                       tau=0.0,\n",
    "                       use_double_dqn=False,\n",
    "                       batch_size=256,\n",
    "                       memory_size=10000)\n"
   ]
  },
  {
   "cell_type": "markdown",
   "id": "2ebe8a89-c401-40bc-a44e-4052b3a3d396",
   "metadata": {},
   "source": [
    "### Updating of the target model\n",
    "\n",
    "It is important in Q-Learning that the model that is trained and the target model used to calculate the target functions are not the same. The target model should stay fixed for a while or change only slowly.\n",
    "\n",
    "There are different methods to update the model:\n",
    "- Replace the target model every number of steps\n",
    "- Interpolate between the policy and the target model\n",
    "\n",
    "Implement the update to use the replacement when the parameter tau is equal to 0 and the interpolation (using tau) when tau is greater than 0. You should later experiment with both update functions"
   ]
  },
  {
   "cell_type": "code",
   "execution_count": 11,
   "id": "a7bcc187-fd5a-4689-ba07-f7e62d128f13",
   "metadata": {
    "deletable": false,
    "nbgrader": {
     "cell_type": "code",
     "checksum": "5e02fcb0302750b798ad2be8e7a21010",
     "grade": false,
     "grade_id": "cell-a1cb418924b7cb27",
     "locked": false,
     "schema_version": 3,
     "solution": true,
     "task": false
    }
   },
   "outputs": [],
   "source": [
    "%%add_to DQNAgent\n",
    "\n",
    "def update_target_model(self):\n",
    "        \"\"\"\n",
    "        Update the target model with the weights from the current model. There are two possibilities for\n",
    "        updating:\n",
    "        - Replace the target model every number of steps\n",
    "        - Interpolate between the policy and the target model\n",
    "\n",
    "        In both cases the update_target_model method will be called every self.target_update_frequency \n",
    "        number of steps (not training steps). If the update is done by replacement, the value should be\n",
    "        higher, if the update is done by interpolation it can be lower.\n",
    "        \"\"\"\n",
    "        \n",
    "        \n",
    "        policy_net_state_dict = self.model.state_dict()\n",
    "        target_model_state_dict = self.target_model.state_dict()\n",
    "\n",
    "        if self.tau > 0.0:\n",
    "            # YOUR CODE HERE\n",
    "            for key in policy_net_state_dict:\n",
    "                target_model_state_dict[key] = policy_net_state_dict[key] * self.tau + target_model_state_dict[key] *(1-self.tau)\n",
    "            self.target_model.load_state_dict(target_model_state_dict)\n",
    "        else:\n",
    "            # YOUR CODE HERE\n",
    "            self.target_model.load_state_dict(policy_net_state_dict)"
   ]
  },
  {
   "cell_type": "code",
   "execution_count": 12,
   "id": "fbda48da-2108-4a2e-83a8-957b81d59023",
   "metadata": {
    "deletable": false,
    "editable": false,
    "nbgrader": {
     "cell_type": "code",
     "checksum": "bbcce6aa140ca971b00622c3915af067",
     "grade": true,
     "grade_id": "cell-cb441f633638dff8",
     "locked": true,
     "points": 1,
     "schema_version": 3,
     "solution": false,
     "task": false
    }
   },
   "outputs": [],
   "source": [
    "q_agent = DQNAgent(env.observation_space, env.action_space,\n",
    "                       gamma=0.99,\n",
    "                       epsilon=0.5,\n",
    "                       model_cls=DQNetwork,\n",
    "                       device=device,\n",
    "                       epsilon_min=0.03,\n",
    "                       epsilon_decay=0.9,\n",
    "                       learning_rate=0.0005,\n",
    "                       training_frequency=1,\n",
    "                       target_update_frequency=2,\n",
    "                       tau=0.0,\n",
    "                       use_double_dqn=False,\n",
    "                       batch_size=256,\n",
    "                       memory_size=10000)\n",
    "q_agent.update_target_model()"
   ]
  },
  {
   "cell_type": "markdown",
   "id": "f42b09c6-c2b2-45dc-81e2-c87179dab829",
   "metadata": {},
   "source": [
    "## Calculating actions\n",
    "\n",
    "Calculating actions is done with an epsilon greedy policy. However, for evaluation it is often suitable to use the greedy policy instead. So we add a parameter `stochastic`, if it is True then the epsilon-greedy policy is used, if not, the greedy policy is used.\n"
   ]
  },
  {
   "cell_type": "code",
   "execution_count": 13,
   "id": "808c4b3c-82ec-456a-beb4-f94a3bc1e7b3",
   "metadata": {},
   "outputs": [],
   "source": [
    "%%add_to DQNAgent\n",
    "\n",
    "def calculate_action(self, obs_tensor, stochastic: bool = True) -> int:\n",
    "    \"\"\"\n",
    "    Calculate the action for the given observation.\n",
    "    Args:\n",
    "        obs: the observation\n",
    "        stochastic: whether to use a stochastic (epsilon greedy) policy or not\n",
    "    Returns:\n",
    "        the action\n",
    "    \"\"\"\n",
    "    if not stochastic or np.random.rand() > self.epsilon:\n",
    "        # calculate greedy action\n",
    "        with torch.no_grad():\n",
    "            action_value = self.model.q_values(obs_tensor)\n",
    "        return torch.argmax(action_value).numpy(force=True)\n",
    "    else:\n",
    "        # calculate random action\n",
    "        return self.action_space.sample()"
   ]
  },
  {
   "cell_type": "code",
   "execution_count": 14,
   "id": "d490aa0b-73f6-4001-8ee5-0387ff91a8dc",
   "metadata": {},
   "outputs": [],
   "source": [
    "agent = DQNAgent(env.observation_space, env.action_space,\n",
    "                 model_cls=DQNetwork,\n",
    "                 device=device,\n",
    "                 gamma=0.99,\n",
    "                 epsilon=0.9,\n",
    "                 epsilon_min=0.03,\n",
    "                 epsilon_decay=0.9999,\n",
    "                 learning_rate=0.0005,\n",
    "                 training_frequency=1,\n",
    "                 target_update_frequency=2,\n",
    "                 tau=0.005,\n",
    "                 use_double_dqn=False,\n",
    "                 batch_size=256,\n",
    "                 memory_size=10000)\n",
    "obs_tensor = torch.tensor(env.observation_space.sample())\n",
    "a = agent.calculate_action(obs_tensor)\n",
    "assert env.action_space.contains(a)\n",
    "a = agent.calculate_action(obs_tensor, stochastic=False)\n",
    "assert env.action_space.contains(a)"
   ]
  },
  {
   "cell_type": "markdown",
   "id": "374cbec0-6b65-40b4-9bbf-c0c136afd366",
   "metadata": {},
   "source": [
    "## Add the steps\n",
    "\n",
    "Next we will add the two step functions as in the previous implementations of an agent. The `step_first` method is called after the environment is reset and we do not have any rewards yet.\n",
    "\n",
    "The `step` method is called for all other steps. In the step method we need to\n",
    "* Save the current experience (S, A, R, S', done) in the memory.\n",
    "* Calculate the next action\n",
    "* Save action and observation for next step\n",
    "* train the model every couple of steps\n",
    "* update the target model every couple of steps\n",
    "\n",
    "You have to fill in the code for the first three items.\n"
   ]
  },
  {
   "cell_type": "code",
   "execution_count": 15,
   "id": "922fa8c8-bc5d-4552-8709-91c6a8c9c421",
   "metadata": {
    "deletable": false,
    "nbgrader": {
     "cell_type": "code",
     "checksum": "edc27e1ff54fbb99d45bdecba8e633e3",
     "grade": false,
     "grade_id": "cell-f11d5c8957197292",
     "locked": false,
     "schema_version": 3,
     "solution": true,
     "task": false
    }
   },
   "outputs": [],
   "source": [
    "%%add_to DQNAgent    \n",
    "def step_first(self, obs):\n",
    "    \"\"\"\n",
    "    Calculate the action for the first step in the environment after a reset.\n",
    "    Args:\n",
    "        obs: The observation from the environment\n",
    "    Returns:\n",
    "        the action\n",
    "    \"\"\"\n",
    "    self.last_obs = np.array(obs)\n",
    "    obs_tensor = torch.tensor(self.last_obs, dtype=torch.float32)\n",
    "    self.last_action = self.calculate_action(obs_tensor)\n",
    "    \n",
    "    return self.last_action\n",
    "\n",
    "def step(self, obs, reward: float, done: bool):\n",
    "\n",
    "    # Konvertiere die Beobachtung in ein NumPy-Array und dann in einen Tensor\n",
    "    obs = np.array(obs)  # Um sicherzustellen, dass es ein Array ist\n",
    "    obs_tensor = torch.tensor(obs, dtype=torch.float32)  # Umwandlung in Tensor\n",
    "    \n",
    "    # Füge die letzte Erfahrung zum Replay-Speicher hinzu\n",
    "    self.memory.append((self.last_obs, self.last_action, reward, obs, done))\n",
    "\n",
    "    # Berechne die nächste Aktion\n",
    "    self.last_action = self.calculate_action(obs_tensor)\n",
    "    self.last_obs = obs  # Aktualisiere die letzte Beobachtung\n",
    "    self.nr_steps += 1\n",
    "\n",
    "    if self.nr_steps % self.training_frequency == 0:\n",
    "        self.train_model()\n",
    "\n",
    "    if self.nr_steps % self.target_update_frequency == 0:\n",
    "        self.update_target_model()\n",
    "\n",
    "    return self.last_action"
   ]
  },
  {
   "cell_type": "code",
   "execution_count": 16,
   "id": "679ad371-d595-4b86-9b6d-322f0d2c3434",
   "metadata": {
    "deletable": false,
    "editable": false,
    "nbgrader": {
     "cell_type": "code",
     "checksum": "68f17895cc3cd32aa4caf076cf644041",
     "grade": true,
     "grade_id": "cell-55874102f12eeb67",
     "locked": true,
     "points": 2,
     "schema_version": 3,
     "solution": false,
     "task": false
    }
   },
   "outputs": [],
   "source": [
    "agent = DQNAgent(env.observation_space, env.action_space,\n",
    "                 model_cls=DQNetwork,\n",
    "                 device=device,\n",
    "                 gamma=0.99,\n",
    "                 epsilon=0.9,\n",
    "                 epsilon_min=0.03,\n",
    "                 epsilon_decay=0.9999,\n",
    "                 learning_rate=0.0005,\n",
    "                 training_frequency=1,\n",
    "                 target_update_frequency=2,\n",
    "                 tau=0.005,\n",
    "                 use_double_dqn=False,\n",
    "                 batch_size=256,\n",
    "                 memory_size=10000)\n",
    "a = agent.step_first(env.observation_space.sample())"
   ]
  },
  {
   "cell_type": "markdown",
   "id": "ec4e1f9b-2b90-4d3f-94b7-adf575b31e33",
   "metadata": {},
   "source": [
    "## Train the model function\n",
    "\n",
    "The last thing to do is now to train the model. For this we have to \n",
    "* Sample from the memory to get a batch of observations, actions, rewards, next observations and dones\n",
    "* Calculate a better estimate for the q values of the current observation using q-learning\n",
    "* Fit the model to the updated values using gradient descend on the loss\n",
    "* Decay the epsilon value\n",
    "\n",
    "In torch, the gradient descend step has to be calculated in the code. Todo this:\n",
    "* Calculate the model output\n",
    "* Calculate the loss function\n",
    "* Clear the gradient (using self.optimizer.zero_grad())\n",
    "* Calculate a backwards step (resulting in the gradient)\n",
    "* Apply the step in the optimizer\n",
    "\n",
    "Note that between calculating the model, and calculating the loss function, you will have to calculate the target function (using the target_model), as no gradients are required on the target model, this code should be within a `with torch.no_grad()` block.\n"
   ]
  },
  {
   "cell_type": "code",
   "execution_count": 17,
   "id": "f3a5506a-0c18-4433-8b1d-529177bc2cf4",
   "metadata": {
    "deletable": false,
    "nbgrader": {
     "cell_type": "code",
     "checksum": "642443bea50b66830d541a7458e57b1d",
     "grade": false,
     "grade_id": "cell-fe51b24157ad1aa1",
     "locked": false,
     "schema_version": 3,
     "solution": true,
     "task": false
    }
   },
   "outputs": [],
   "source": [
    "%%add_to DQNAgent\n",
    "\n",
    "def train_model(self):\n",
    "    # not enough samples yet\n",
    "    if len(self.memory) < self.batch_size:\n",
    "        return\n",
    "\n",
    "    self.nr_training_steps += 1\n",
    "\n",
    "    # Sample random minibatch from memory\n",
    "    indices = np.random.choice(len(self.memory), size=self.batch_size, replace=False)\n",
    "\n",
    "    # Unpack batch\n",
    "    obs = np.array([self.memory[i][0] for i in indices])\n",
    "    actions = np.array([self.memory[i][1] for i in indices])\n",
    "    rewards = np.array([self.memory[i][2] for i in indices])\n",
    "    obs_next = np.array([self.memory[i][3] for i in indices])\n",
    "    dones = np.array([self.memory[i][4] for i in indices])\n",
    "\n",
    "    # Convert to torch tensors\n",
    "    obs_tensor = torch.tensor(obs, dtype=torch.float32).to(self.device)\n",
    "    actions_tensor = torch.tensor(actions, dtype=torch.int64).unsqueeze(1).to(self.device)\n",
    "    rewards_tensor = torch.tensor(rewards, dtype=torch.float32).unsqueeze(1).to(self.device)\n",
    "    obs_next_tensor = torch.tensor(obs_next, dtype=torch.float32).to(self.device)\n",
    "    dones_tensor = torch.tensor(dones, dtype=torch.float32).unsqueeze(1).to(self.device)\n",
    "\n",
    "    # Calculate Q-values for the current observation using the model\n",
    "    q_values = self.model(obs_tensor).gather(dim=1, index=actions_tensor)\n",
    "\n",
    "    # Calculate the target Q-values using the target model (without gradients)\n",
    "    with torch.no_grad():\n",
    "        next_q_values = self.target_model(obs_next_tensor).max(1, keepdim=True)[0]\n",
    "        target_q_values = rewards_tensor + (1 - dones_tensor) * self.gamma * next_q_values\n",
    "\n",
    "    # Compute the loss between current Q-values and target Q-values\n",
    "    loss = self.loss(q_values, target_q_values)\n",
    "\n",
    "    # Backpropagation to compute gradients\n",
    "    self.optimizer.zero_grad()\n",
    "    loss.backward()\n",
    "    self.optimizer.step()\n",
    "\n",
    "    # Decay epsilon\n",
    "    if self.epsilon > self.epsilon_min:\n",
    "        self.epsilon *= self.epsilon_decay"
   ]
  },
  {
   "cell_type": "code",
   "execution_count": 18,
   "id": "53e246cf-b487-4e93-acc9-1b18e3d1417e",
   "metadata": {
    "deletable": false,
    "editable": false,
    "nbgrader": {
     "cell_type": "code",
     "checksum": "0b4f1b16af9ee8053a8839b775cab2e9",
     "grade": true,
     "grade_id": "cell-38fb10ebd1e39242",
     "locked": true,
     "points": 5,
     "schema_version": 3,
     "solution": false,
     "task": false
    }
   },
   "outputs": [],
   "source": [
    "# Test with a small version of the agent\n",
    "agent = DQNAgent(env.observation_space, env.action_space,\n",
    "                 model_cls=DQNetwork,\n",
    "                 device=device,\n",
    "                       gamma=0.99,\n",
    "                       epsilon=0.5,\n",
    "                       epsilon_min=0.03,\n",
    "                       epsilon_decay=0.9,\n",
    "                       learning_rate=0.0005,\n",
    "                       training_frequency=1,\n",
    "                       target_update_frequency=20,\n",
    "                       tau=0.00,\n",
    "                       use_double_dqn=False,\n",
    "                       batch_size=4,\n",
    "                       memory_size=16)\n",
    "obs, info = env.reset()\n",
    "action = agent.step_first(obs)\n",
    "\n",
    "for i in range(20):\n",
    "    obs, reward, done, truncated, info = env.step(action)\n",
    "    action = agent.step(obs, reward, done)\n",
    "\n",
    "    if done or truncated:\n",
    "        obs, info = env.reset()\n",
    "        action = agent.step_first(obs)\n",
    "assert agent.nr_training_steps > 4\n",
    "    "
   ]
  },
  {
   "cell_type": "markdown",
   "id": "10b96b12-e8dd-41f6-a8dc-6acd8c2f8223",
   "metadata": {},
   "source": [
    "Congratulations! You have implemented a full DQN Agent."
   ]
  },
  {
   "cell_type": "markdown",
   "id": "cf9ef19c-2e2a-4d97-a173-34322b805f55",
   "metadata": {},
   "source": [
    "## Complete agent for training and evaluation.\n",
    "\n",
    "We will add some additional methods to the agent in order to train and evaluate it more easily."
   ]
  },
  {
   "cell_type": "code",
   "execution_count": 19,
   "id": "14b25676-7364-48ef-9ebb-9ac55e730bd0",
   "metadata": {},
   "outputs": [],
   "source": [
    "%%add_to DQNAgent\n",
    "\n",
    "def train(self, env: gym.Env, nr_episodes_to_train: int,  eval_env: gym.Env, eval_frequency: int):\n",
    "    \"\"\"\n",
    "    Train the agent on the given environment for the given number of steps.\n",
    "    Args:\n",
    "        env: The environment on which to train the agent\n",
    "        nr_episodes_to_train: the number of episodes to train\n",
    "        eval_env: Environment for evaluation\n",
    "        eval_frequency: Frequency of evaluation of the trained agent\n",
    "    \"\"\"\n",
    "    nr_episodes = 0\n",
    "    while True:\n",
    "        obs, _ = env.reset()\n",
    "        a = self.step_first(obs)\n",
    "        done = False\n",
    "        truncated = False\n",
    "        while not done and not truncated:\n",
    "            obs, reward, done, truncated, _ = env.step(a)\n",
    "            done = done or truncated\n",
    "            a = self.step(obs, reward, done)\n",
    "\n",
    "        nr_episodes += 1\n",
    "        if nr_episodes % eval_frequency == 0:\n",
    "            rewards = self.evaluate(eval_env, 10)\n",
    "            print(f'Evaluation: episode {nr_episodes}, epsilon: {self.epsilon} mean reward: {np.mean(rewards)}')\n",
    "\n",
    "        if nr_episodes >= nr_episodes_to_train:\n",
    "            return\n",
    "\n",
    "def evaluate(self, env: gym.Env, nr_episodes: int):\n",
    "    \"\"\"\n",
    "    Evaluate the agent on the given environment for the given number of episodes.\n",
    "    Args:\n",
    "        env: the environment on which to evaluate the agent\n",
    "        nr_episodes: the number of episodes to evaluate\n",
    "    Returns:\n",
    "        the rewards for the episodes\n",
    "    \"\"\"\n",
    "    rewards = []\n",
    "    for e in range(nr_episodes):\n",
    "        obs, _ = env.reset()\n",
    "        obs_tensor = torch.from_numpy(obs).to(self.device)\n",
    "        a = self.calculate_action(obs_tensor, stochastic=False)\n",
    "        done = False\n",
    "        truncated = False\n",
    "        episode_reward = 0\n",
    "        # some environments do not support truncated episodes, so we additionally check for a maximal number of steps\n",
    "        while not done and not truncated:\n",
    "            obs, reward, done, truncated, _ = env.step(a)\n",
    "            obs_tensor = torch.from_numpy(obs).to(self.device)\n",
    "            a = self.calculate_action(obs_tensor, stochastic=False)\n",
    "            episode_reward += reward\n",
    "        rewards.append(episode_reward)\n",
    "    return rewards\n",
    "            "
   ]
  },
  {
   "cell_type": "markdown",
   "id": "9e050db9-1f7d-4290-9e6d-03c4a936fa69",
   "metadata": {},
   "source": [
    "## Example Training\n",
    "\n",
    "Here is an example with some hyperparameters and a short training time (that will not be enough to actually train the full agent). You can adjust the parameters and see if you get good results. But for handing in the exercise, put it back to a short training :-). "
   ]
  },
  {
   "cell_type": "code",
   "execution_count": 20,
   "id": "732052e5-bc4f-40d4-a496-18babc377d97",
   "metadata": {},
   "outputs": [
    {
     "name": "stdout",
     "output_type": "stream",
     "text": [
      "Evaluation: episode 10, epsilon: 0.4483407572091659 mean reward: 46.6\n",
      "Evaluation: episode 20, epsilon: 0.3334208358186289 mean reward: 9.9\n",
      "Evaluation: episode 30, epsilon: 0.2989723000004739 mean reward: 9.4\n",
      "Evaluation: episode 40, epsilon: 0.2686199059255016 mean reward: 9.6\n",
      "Evaluation: episode 50, epsilon: 0.24231677478799676 mean reward: 9.5\n",
      "Evaluation: episode 60, epsilon: 0.21858923351697282 mean reward: 8.9\n",
      "Evaluation: episode 70, epsilon: 0.19561311110057522 mean reward: 9.7\n",
      "Evaluation: episode 80, epsilon: 0.1612639109059692 mean reward: 45.4\n",
      "Evaluation: episode 90, epsilon: 0.10188172361156822 mean reward: 60.6\n",
      "Evaluation: episode 100, epsilon: 0.043527254602211976 mean reward: 107.5\n",
      "Evaluation: episode 110, epsilon: 0.029970113248546433 mean reward: 382.7\n",
      "Evaluation: episode 120, epsilon: 0.029970113248546433 mean reward: 340.1\n",
      "Evaluation: episode 130, epsilon: 0.029970113248546433 mean reward: 432.1\n",
      "Evaluation: episode 140, epsilon: 0.029970113248546433 mean reward: 323.7\n",
      "Evaluation: episode 150, epsilon: 0.029970113248546433 mean reward: 261.3\n",
      "Evaluation: episode 160, epsilon: 0.029970113248546433 mean reward: 500.0\n",
      "Evaluation: episode 170, epsilon: 0.029970113248546433 mean reward: 120.4\n",
      "Evaluation: episode 180, epsilon: 0.029970113248546433 mean reward: 32.5\n",
      "Evaluation: episode 190, epsilon: 0.029970113248546433 mean reward: 27.3\n",
      "Evaluation: episode 200, epsilon: 0.029970113248546433 mean reward: 30.3\n",
      "Evaluation: episode 210, epsilon: 0.029970113248546433 mean reward: 36.4\n",
      "Evaluation: episode 220, epsilon: 0.029970113248546433 mean reward: 325.3\n",
      "Evaluation: episode 230, epsilon: 0.029970113248546433 mean reward: 72.6\n",
      "Evaluation: episode 240, epsilon: 0.029970113248546433 mean reward: 108.1\n",
      "Evaluation: episode 250, epsilon: 0.029970113248546433 mean reward: 107.9\n",
      "Evaluation: episode 260, epsilon: 0.029970113248546433 mean reward: 127.3\n",
      "Evaluation: episode 270, epsilon: 0.029970113248546433 mean reward: 181.1\n",
      "Evaluation: episode 280, epsilon: 0.029970113248546433 mean reward: 206.0\n",
      "Evaluation: episode 290, epsilon: 0.029970113248546433 mean reward: 472.2\n",
      "Evaluation: episode 300, epsilon: 0.029970113248546433 mean reward: 494.2\n",
      "Evaluation: episode 310, epsilon: 0.029970113248546433 mean reward: 499.6\n",
      "Evaluation: episode 320, epsilon: 0.029970113248546433 mean reward: 500.0\n",
      "Evaluation: episode 330, epsilon: 0.029970113248546433 mean reward: 500.0\n",
      "Evaluation: episode 340, epsilon: 0.029970113248546433 mean reward: 500.0\n",
      "Evaluation: episode 350, epsilon: 0.029970113248546433 mean reward: 500.0\n",
      "Evaluation: episode 360, epsilon: 0.029970113248546433 mean reward: 500.0\n",
      "Evaluation: episode 370, epsilon: 0.029970113248546433 mean reward: 500.0\n",
      "Evaluation: episode 380, epsilon: 0.029970113248546433 mean reward: 500.0\n",
      "Evaluation: episode 390, epsilon: 0.029970113248546433 mean reward: 260.6\n",
      "Evaluation: episode 400, epsilon: 0.029970113248546433 mean reward: 500.0\n"
     ]
    }
   ],
   "source": [
    "env_train = gym.make(environment_name)\n",
    "env_eval = gym.make(environment_name, render_mode='rgb_array')\n",
    "\n",
    " # Hyperparameters will be quite important here.\n",
    "q_agent = DQNAgent(env_train.observation_space, env_train.action_space,\n",
    "                   model_cls=DQNetwork,\n",
    "                   device=device,\n",
    "                   gamma=0.99,\n",
    "                   epsilon=0.5,\n",
    "                   epsilon_min=0.03,\n",
    "                   epsilon_decay=0.999,\n",
    "                   learning_rate=0.0005,\n",
    "                   training_frequency=1,\n",
    "                   target_update_frequency=2,\n",
    "                   tau=0.01,\n",
    "                   use_double_dqn=False,\n",
    "                   batch_size=256,\n",
    "                   memory_size=10000)\n",
    "\n",
    "# the parameters are not optimal, but should already give a result\n",
    "q_agent.train(env_train, nr_episodes_to_train=400, eval_env=env_eval, eval_frequency=10)\n"
   ]
  },
  {
   "cell_type": "code",
   "execution_count": 21,
   "id": "fe8b3c3b-1d54-4e5a-8a07-cef082a51899",
   "metadata": {},
   "outputs": [
    {
     "data": {
      "text/plain": [
       "[500.0, 500.0, 500.0, 500.0, 500.0]"
      ]
     },
     "execution_count": 21,
     "metadata": {},
     "output_type": "execute_result"
    }
   ],
   "source": [
    "q_agent.evaluate(env_eval, 5)"
   ]
  },
  {
   "cell_type": "code",
   "execution_count": 29,
   "id": "fcb7ac82-ea78-4f37-bb3d-86cc843a1d03",
   "metadata": {},
   "outputs": [
    {
     "data": {
      "image/png": "[encoded data removed]",
      "text/plain": [
       "<Figure size 600x400 with 1 Axes>"
      ]
     },
     "metadata": {},
     "output_type": "display_data"
    }
   ],
   "source": [
    "# Test the function with a few steps\n",
    "env = gym.make(environment_name, render_mode='rgb_array')\n",
    "obs, _ = env.reset()\n",
    "obs_tensor = torch.from_numpy(obs).to(device)\n",
    "for _ in range(200):\n",
    "    action = q_agent.calculate_action(obs_tensor, stochastic=False)\n",
    "    obs, _, done, _, _ = env.step(action)  # Take a random action\n",
    "    obs_tensor = torch.from_numpy(obs).to(device)\n",
    "    display_environment(env)\n",
    "    if done:\n",
    "        break"
   ]
  },
  {
   "cell_type": "markdown",
   "id": "bf7d4871-50fa-4122-97a5-134798d52b52",
   "metadata": {},
   "source": [
    "# Bonus Exercise\n",
    "\n",
    "Can you try training for another example, like the mountain car from the lecture?"
   ]
  },
  {
   "cell_type": "code",
   "execution_count": 26,
   "id": "5f787162-82ef-4a51-8e8e-d488863dfa6a",
   "metadata": {},
   "outputs": [
    {
     "name": "stdout",
     "output_type": "stream",
     "text": [
      "Observation space: Box([-1.2  -0.07], [0.6  0.07], (2,), float32)\n",
      "Action space: Discrete(3)\n"
     ]
    }
   ],
   "source": [
    "other_env = 'MountainCar-v0'\n",
    "\n",
    "env_train = gym.make(other_env)\n",
    "env_eval = gym.make(other_env, render_mode='rgb_array')\n",
    "\n",
    "print(f'Observation space: {env_eval.observation_space}')\n",
    "print(f'Action space: {env_eval.action_space}')\n"
   ]
  },
  {
   "cell_type": "code",
   "execution_count": null,
   "id": "9d8aaaaa-c62e-4169-9dbd-8d8bcc9b0350",
   "metadata": {
    "deletable": false,
    "nbgrader": {
     "cell_type": "code",
     "checksum": "4623ab4dec6a1df0eeb4f6c804f37f13",
     "grade": false,
     "grade_id": "cell-a4cde5d226be73e4",
     "locked": false,
     "schema_version": 3,
     "solution": true,
     "task": false
    }
   },
   "outputs": [],
   "source": []
  },
  {
   "cell_type": "code",
   "execution_count": 27,
   "id": "df69d7ad-d39a-454b-baed-3afb680f8f51",
   "metadata": {},
   "outputs": [
    {
     "ename": "RuntimeError",
     "evalue": "mat1 and mat2 shapes cannot be multiplied (1x2 and 4x32)",
     "output_type": "error",
     "traceback": [
      "\u001b[0;31m---------------------------------------------------------------------------\u001b[0m",
      "\u001b[0;31mRuntimeError\u001b[0m                              Traceback (most recent call last)",
      "Cell \u001b[0;32mIn[27], line 6\u001b[0m\n\u001b[1;32m      4\u001b[0m obs_tensor \u001b[38;5;241m=\u001b[39m torch\u001b[38;5;241m.\u001b[39mfrom_numpy(obs)\u001b[38;5;241m.\u001b[39mto(device)\n\u001b[1;32m      5\u001b[0m \u001b[38;5;28;01mfor\u001b[39;00m _ \u001b[38;5;129;01min\u001b[39;00m \u001b[38;5;28mrange\u001b[39m(\u001b[38;5;241m200\u001b[39m):\n\u001b[0;32m----> 6\u001b[0m     action \u001b[38;5;241m=\u001b[39m \u001b[43mq_agent\u001b[49m\u001b[38;5;241;43m.\u001b[39;49m\u001b[43mcalculate_action\u001b[49m\u001b[43m(\u001b[49m\u001b[43mobs_tensor\u001b[49m\u001b[43m,\u001b[49m\u001b[43m \u001b[49m\u001b[43mstochastic\u001b[49m\u001b[38;5;241;43m=\u001b[39;49m\u001b[38;5;28;43;01mFalse\u001b[39;49;00m\u001b[43m)\u001b[49m\n\u001b[1;32m      7\u001b[0m     obs, _, done, _, _ \u001b[38;5;241m=\u001b[39m env\u001b[38;5;241m.\u001b[39mstep(action)  \u001b[38;5;66;03m# Take a random action\u001b[39;00m\n\u001b[1;32m      8\u001b[0m     obs_tensor \u001b[38;5;241m=\u001b[39m torch\u001b[38;5;241m.\u001b[39mfrom_numpy(obs)\u001b[38;5;241m.\u001b[39mto(device)\n",
      "File \u001b[0;32m<string>:13\u001b[0m, in \u001b[0;36mcalculate_action\u001b[0;34m(self, obs_tensor, stochastic)\u001b[0m\n",
      "Cell \u001b[0;32mIn[6], line 19\u001b[0m, in \u001b[0;36mDQNetwork.q_values\u001b[0;34m(self, obs_tensor)\u001b[0m\n\u001b[1;32m     17\u001b[0m \u001b[38;5;28;01mdef\u001b[39;00m\u001b[38;5;250m \u001b[39m\u001b[38;5;21mq_values\u001b[39m(\u001b[38;5;28mself\u001b[39m, obs_tensor):\n\u001b[1;32m     18\u001b[0m     \u001b[38;5;28;01mwith\u001b[39;00m torch\u001b[38;5;241m.\u001b[39mno_grad():\n\u001b[0;32m---> 19\u001b[0m         q \u001b[38;5;241m=\u001b[39m \u001b[38;5;28;43mself\u001b[39;49m\u001b[38;5;241;43m.\u001b[39;49m\u001b[43mforward\u001b[49m\u001b[43m(\u001b[49m\u001b[43mobs_tensor\u001b[49m\u001b[43m)\u001b[49m\n\u001b[1;32m     20\u001b[0m     \u001b[38;5;28;01mreturn\u001b[39;00m q\n",
      "Cell \u001b[0;32mIn[6], line 15\u001b[0m, in \u001b[0;36mDQNetwork.forward\u001b[0;34m(self, x_tensor)\u001b[0m\n\u001b[1;32m     12\u001b[0m \u001b[38;5;28;01mdef\u001b[39;00m\u001b[38;5;250m \u001b[39m\u001b[38;5;21mforward\u001b[39m(\u001b[38;5;28mself\u001b[39m, x_tensor):\n\u001b[1;32m     13\u001b[0m     \u001b[38;5;66;03m# forward should just call you model\u001b[39;00m\n\u001b[1;32m     14\u001b[0m     \u001b[38;5;66;03m# YOUR CODE HERE\u001b[39;00m\n\u001b[0;32m---> 15\u001b[0m     \u001b[38;5;28;01mreturn\u001b[39;00m \u001b[38;5;28;43mself\u001b[39;49m\u001b[38;5;241;43m.\u001b[39;49m\u001b[43mfc\u001b[49m\u001b[43m(\u001b[49m\u001b[43mx_tensor\u001b[49m\u001b[43m)\u001b[49m\n",
      "File \u001b[0;32m/opt/conda/lib/python3.12/site-packages/torch/nn/modules/module.py:1739\u001b[0m, in \u001b[0;36mModule._wrapped_call_impl\u001b[0;34m(self, *args, **kwargs)\u001b[0m\n\u001b[1;32m   1737\u001b[0m     \u001b[38;5;28;01mreturn\u001b[39;00m \u001b[38;5;28mself\u001b[39m\u001b[38;5;241m.\u001b[39m_compiled_call_impl(\u001b[38;5;241m*\u001b[39margs, \u001b[38;5;241m*\u001b[39m\u001b[38;5;241m*\u001b[39mkwargs)  \u001b[38;5;66;03m# type: ignore[misc]\u001b[39;00m\n\u001b[1;32m   1738\u001b[0m \u001b[38;5;28;01melse\u001b[39;00m:\n\u001b[0;32m-> 1739\u001b[0m     \u001b[38;5;28;01mreturn\u001b[39;00m \u001b[38;5;28;43mself\u001b[39;49m\u001b[38;5;241;43m.\u001b[39;49m\u001b[43m_call_impl\u001b[49m\u001b[43m(\u001b[49m\u001b[38;5;241;43m*\u001b[39;49m\u001b[43margs\u001b[49m\u001b[43m,\u001b[49m\u001b[43m \u001b[49m\u001b[38;5;241;43m*\u001b[39;49m\u001b[38;5;241;43m*\u001b[39;49m\u001b[43mkwargs\u001b[49m\u001b[43m)\u001b[49m\n",
      "File \u001b[0;32m/opt/conda/lib/python3.12/site-packages/torch/nn/modules/module.py:1750\u001b[0m, in \u001b[0;36mModule._call_impl\u001b[0;34m(self, *args, **kwargs)\u001b[0m\n\u001b[1;32m   1745\u001b[0m \u001b[38;5;66;03m# If we don't have any hooks, we want to skip the rest of the logic in\u001b[39;00m\n\u001b[1;32m   1746\u001b[0m \u001b[38;5;66;03m# this function, and just call forward.\u001b[39;00m\n\u001b[1;32m   1747\u001b[0m \u001b[38;5;28;01mif\u001b[39;00m \u001b[38;5;129;01mnot\u001b[39;00m (\u001b[38;5;28mself\u001b[39m\u001b[38;5;241m.\u001b[39m_backward_hooks \u001b[38;5;129;01mor\u001b[39;00m \u001b[38;5;28mself\u001b[39m\u001b[38;5;241m.\u001b[39m_backward_pre_hooks \u001b[38;5;129;01mor\u001b[39;00m \u001b[38;5;28mself\u001b[39m\u001b[38;5;241m.\u001b[39m_forward_hooks \u001b[38;5;129;01mor\u001b[39;00m \u001b[38;5;28mself\u001b[39m\u001b[38;5;241m.\u001b[39m_forward_pre_hooks\n\u001b[1;32m   1748\u001b[0m         \u001b[38;5;129;01mor\u001b[39;00m _global_backward_pre_hooks \u001b[38;5;129;01mor\u001b[39;00m _global_backward_hooks\n\u001b[1;32m   1749\u001b[0m         \u001b[38;5;129;01mor\u001b[39;00m _global_forward_hooks \u001b[38;5;129;01mor\u001b[39;00m _global_forward_pre_hooks):\n\u001b[0;32m-> 1750\u001b[0m     \u001b[38;5;28;01mreturn\u001b[39;00m \u001b[43mforward_call\u001b[49m\u001b[43m(\u001b[49m\u001b[38;5;241;43m*\u001b[39;49m\u001b[43margs\u001b[49m\u001b[43m,\u001b[49m\u001b[43m \u001b[49m\u001b[38;5;241;43m*\u001b[39;49m\u001b[38;5;241;43m*\u001b[39;49m\u001b[43mkwargs\u001b[49m\u001b[43m)\u001b[49m\n\u001b[1;32m   1752\u001b[0m result \u001b[38;5;241m=\u001b[39m \u001b[38;5;28;01mNone\u001b[39;00m\n\u001b[1;32m   1753\u001b[0m called_always_called_hooks \u001b[38;5;241m=\u001b[39m \u001b[38;5;28mset\u001b[39m()\n",
      "File \u001b[0;32m/opt/conda/lib/python3.12/site-packages/torch/nn/modules/container.py:250\u001b[0m, in \u001b[0;36mSequential.forward\u001b[0;34m(self, input)\u001b[0m\n\u001b[1;32m    248\u001b[0m \u001b[38;5;28;01mdef\u001b[39;00m\u001b[38;5;250m \u001b[39m\u001b[38;5;21mforward\u001b[39m(\u001b[38;5;28mself\u001b[39m, \u001b[38;5;28minput\u001b[39m):\n\u001b[1;32m    249\u001b[0m     \u001b[38;5;28;01mfor\u001b[39;00m module \u001b[38;5;129;01min\u001b[39;00m \u001b[38;5;28mself\u001b[39m:\n\u001b[0;32m--> 250\u001b[0m         \u001b[38;5;28minput\u001b[39m \u001b[38;5;241m=\u001b[39m \u001b[43mmodule\u001b[49m\u001b[43m(\u001b[49m\u001b[38;5;28;43minput\u001b[39;49m\u001b[43m)\u001b[49m\n\u001b[1;32m    251\u001b[0m     \u001b[38;5;28;01mreturn\u001b[39;00m \u001b[38;5;28minput\u001b[39m\n",
      "File \u001b[0;32m/opt/conda/lib/python3.12/site-packages/torch/nn/modules/module.py:1739\u001b[0m, in \u001b[0;36mModule._wrapped_call_impl\u001b[0;34m(self, *args, **kwargs)\u001b[0m\n\u001b[1;32m   1737\u001b[0m     \u001b[38;5;28;01mreturn\u001b[39;00m \u001b[38;5;28mself\u001b[39m\u001b[38;5;241m.\u001b[39m_compiled_call_impl(\u001b[38;5;241m*\u001b[39margs, \u001b[38;5;241m*\u001b[39m\u001b[38;5;241m*\u001b[39mkwargs)  \u001b[38;5;66;03m# type: ignore[misc]\u001b[39;00m\n\u001b[1;32m   1738\u001b[0m \u001b[38;5;28;01melse\u001b[39;00m:\n\u001b[0;32m-> 1739\u001b[0m     \u001b[38;5;28;01mreturn\u001b[39;00m \u001b[38;5;28;43mself\u001b[39;49m\u001b[38;5;241;43m.\u001b[39;49m\u001b[43m_call_impl\u001b[49m\u001b[43m(\u001b[49m\u001b[38;5;241;43m*\u001b[39;49m\u001b[43margs\u001b[49m\u001b[43m,\u001b[49m\u001b[43m \u001b[49m\u001b[38;5;241;43m*\u001b[39;49m\u001b[38;5;241;43m*\u001b[39;49m\u001b[43mkwargs\u001b[49m\u001b[43m)\u001b[49m\n",
      "File \u001b[0;32m/opt/conda/lib/python3.12/site-packages/torch/nn/modules/module.py:1750\u001b[0m, in \u001b[0;36mModule._call_impl\u001b[0;34m(self, *args, **kwargs)\u001b[0m\n\u001b[1;32m   1745\u001b[0m \u001b[38;5;66;03m# If we don't have any hooks, we want to skip the rest of the logic in\u001b[39;00m\n\u001b[1;32m   1746\u001b[0m \u001b[38;5;66;03m# this function, and just call forward.\u001b[39;00m\n\u001b[1;32m   1747\u001b[0m \u001b[38;5;28;01mif\u001b[39;00m \u001b[38;5;129;01mnot\u001b[39;00m (\u001b[38;5;28mself\u001b[39m\u001b[38;5;241m.\u001b[39m_backward_hooks \u001b[38;5;129;01mor\u001b[39;00m \u001b[38;5;28mself\u001b[39m\u001b[38;5;241m.\u001b[39m_backward_pre_hooks \u001b[38;5;129;01mor\u001b[39;00m \u001b[38;5;28mself\u001b[39m\u001b[38;5;241m.\u001b[39m_forward_hooks \u001b[38;5;129;01mor\u001b[39;00m \u001b[38;5;28mself\u001b[39m\u001b[38;5;241m.\u001b[39m_forward_pre_hooks\n\u001b[1;32m   1748\u001b[0m         \u001b[38;5;129;01mor\u001b[39;00m _global_backward_pre_hooks \u001b[38;5;129;01mor\u001b[39;00m _global_backward_hooks\n\u001b[1;32m   1749\u001b[0m         \u001b[38;5;129;01mor\u001b[39;00m _global_forward_hooks \u001b[38;5;129;01mor\u001b[39;00m _global_forward_pre_hooks):\n\u001b[0;32m-> 1750\u001b[0m     \u001b[38;5;28;01mreturn\u001b[39;00m \u001b[43mforward_call\u001b[49m\u001b[43m(\u001b[49m\u001b[38;5;241;43m*\u001b[39;49m\u001b[43margs\u001b[49m\u001b[43m,\u001b[49m\u001b[43m \u001b[49m\u001b[38;5;241;43m*\u001b[39;49m\u001b[38;5;241;43m*\u001b[39;49m\u001b[43mkwargs\u001b[49m\u001b[43m)\u001b[49m\n\u001b[1;32m   1752\u001b[0m result \u001b[38;5;241m=\u001b[39m \u001b[38;5;28;01mNone\u001b[39;00m\n\u001b[1;32m   1753\u001b[0m called_always_called_hooks \u001b[38;5;241m=\u001b[39m \u001b[38;5;28mset\u001b[39m()\n",
      "File \u001b[0;32m/opt/conda/lib/python3.12/site-packages/torch/nn/modules/linear.py:125\u001b[0m, in \u001b[0;36mLinear.forward\u001b[0;34m(self, input)\u001b[0m\n\u001b[1;32m    124\u001b[0m \u001b[38;5;28;01mdef\u001b[39;00m\u001b[38;5;250m \u001b[39m\u001b[38;5;21mforward\u001b[39m(\u001b[38;5;28mself\u001b[39m, \u001b[38;5;28minput\u001b[39m: Tensor) \u001b[38;5;241m-\u001b[39m\u001b[38;5;241m>\u001b[39m Tensor:\n\u001b[0;32m--> 125\u001b[0m     \u001b[38;5;28;01mreturn\u001b[39;00m \u001b[43mF\u001b[49m\u001b[38;5;241;43m.\u001b[39;49m\u001b[43mlinear\u001b[49m\u001b[43m(\u001b[49m\u001b[38;5;28;43minput\u001b[39;49m\u001b[43m,\u001b[49m\u001b[43m \u001b[49m\u001b[38;5;28;43mself\u001b[39;49m\u001b[38;5;241;43m.\u001b[39;49m\u001b[43mweight\u001b[49m\u001b[43m,\u001b[49m\u001b[43m \u001b[49m\u001b[38;5;28;43mself\u001b[39;49m\u001b[38;5;241;43m.\u001b[39;49m\u001b[43mbias\u001b[49m\u001b[43m)\u001b[49m\n",
      "File \u001b[0;32m/opt/conda/lib/python3.12/site-packages/torch/utils/_device.py:104\u001b[0m, in \u001b[0;36mDeviceContext.__torch_function__\u001b[0;34m(self, func, types, args, kwargs)\u001b[0m\n\u001b[1;32m    102\u001b[0m \u001b[38;5;28;01mif\u001b[39;00m func \u001b[38;5;129;01min\u001b[39;00m _device_constructors() \u001b[38;5;129;01mand\u001b[39;00m kwargs\u001b[38;5;241m.\u001b[39mget(\u001b[38;5;124m'\u001b[39m\u001b[38;5;124mdevice\u001b[39m\u001b[38;5;124m'\u001b[39m) \u001b[38;5;129;01mis\u001b[39;00m \u001b[38;5;28;01mNone\u001b[39;00m:\n\u001b[1;32m    103\u001b[0m     kwargs[\u001b[38;5;124m'\u001b[39m\u001b[38;5;124mdevice\u001b[39m\u001b[38;5;124m'\u001b[39m] \u001b[38;5;241m=\u001b[39m \u001b[38;5;28mself\u001b[39m\u001b[38;5;241m.\u001b[39mdevice\n\u001b[0;32m--> 104\u001b[0m \u001b[38;5;28;01mreturn\u001b[39;00m \u001b[43mfunc\u001b[49m\u001b[43m(\u001b[49m\u001b[38;5;241;43m*\u001b[39;49m\u001b[43margs\u001b[49m\u001b[43m,\u001b[49m\u001b[43m \u001b[49m\u001b[38;5;241;43m*\u001b[39;49m\u001b[38;5;241;43m*\u001b[39;49m\u001b[43mkwargs\u001b[49m\u001b[43m)\u001b[49m\n",
      "\u001b[0;31mRuntimeError\u001b[0m: mat1 and mat2 shapes cannot be multiplied (1x2 and 4x32)"
     ]
    }
   ],
   "source": [
    "# Test the function with a few steps\n",
    "env = gym.make(other_env, render_mode='rgb_array')\n",
    "obs, _ = env.reset()\n",
    "obs_tensor = torch.from_numpy(obs).to(device)\n",
    "for _ in range(200):\n",
    "    action = q_agent.calculate_action(obs_tensor, stochastic=False)\n",
    "    obs, _, done, _, _ = env.step(action)  # Take a random action\n",
    "    obs_tensor = torch.from_numpy(obs).to(device)\n",
    "    display_environment(env)\n",
    "    if done:\n",
    "        break"
   ]
  },
  {
   "cell_type": "code",
   "execution_count": null,
   "id": "40e40e83-197e-4c0d-8915-77e241053ce9",
   "metadata": {},
   "outputs": [],
   "source": []
  }
 ],
 "metadata": {
  "kernelspec": {
   "display_name": "Python 3 (ipykernel)",
   "language": "python",
   "name": "python3"
  },
  "language_info": {
   "codemirror_mode": {
    "name": "ipython",
    "version": 3
   },
   "file_extension": ".py",
   "mimetype": "text/x-python",
   "name": "python",
   "nbconvert_exporter": "python",
   "pygments_lexer": "ipython3",
   "version": "3.12.8"
  }
 },
 "nbformat": 4,
 "nbformat_minor": 5
}
