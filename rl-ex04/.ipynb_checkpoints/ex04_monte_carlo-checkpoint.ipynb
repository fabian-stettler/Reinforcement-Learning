{
 "cells": [
  {
   "cell_type": "markdown",
   "id": "ddaec34c",
   "metadata": {
    "deletable": false,
    "editable": false,
    "nbgrader": {
     "cell_type": "markdown",
     "checksum": "7b9209a5b8f5a48d24d4a3037040bc33",
     "grade": false,
     "grade_id": "cell-3ae0e7badfc37efc",
     "locked": true,
     "schema_version": 3,
     "solution": false,
     "task": false
    }
   },
   "source": [
    "# Monte Carlo Methods\n",
    "\n",
    "In this exercise, we will look at Monte Carlo (MC) methods.\n",
    "\n",
    "In the last exercise, we did policy iteration to obtain the optimal policy. For that we had a model of the environment where we could sample any state and action and observe the reward and the new state. Often, we do not have this information available, but only have actual (or simulated) experience, i.e. sample sequences of states, actions and rewards. In Monte Carlo (MC) methods we can learn directly from this experience. \n",
    "\n",
    "MC methods are characterized that we update our estimations of state value or state-action value functions only at the end of an episode. In the next chapter we will look at methods that perform updates sooner.\n",
    "\n",
    "We will implement the following:\n",
    "* `generate_episode`: function to generate one episode\n",
    "* `monte_carlo_prediction`: calculate MC prediction for the state-value function given a policy\n",
    "* `generate_episode_with_actions`: function to generate one episode and also return the actions\n",
    "* `monte_carlo_predict_action_value`: calculate MC predition for the action-value function given a policy\n",
    "* `greedy_from_action_values`: function to calculate greedy policy from the action-value function\n",
    "* `MonteCarloAgentFirstVisit`: class for Agent trained with MC"
   ]
  },
  {
   "cell_type": "code",
   "execution_count": 95,
   "id": "a16fbb2a",
   "metadata": {},
   "outputs": [],
   "source": [
    "import numpy as np\n",
    "import matplotlib.pyplot as plt\n",
    "import tqdm\n",
    "import gymnasium as gym\n",
    "\n",
    "import sys\n",
    "import warnings\n",
    "\n",
    "sys.path.append('.')\n",
    "from mdp import RState, MDPGridworld, WalledGridworld, SlipperyGridworld\n",
    "from util import max_arg_with_ties, plot_policy_values"
   ]
  },
  {
   "cell_type": "markdown",
   "id": "10c90cc3",
   "metadata": {
    "deletable": false,
    "editable": false,
    "nbgrader": {
     "cell_type": "markdown",
     "checksum": "d13707c822ade403b8665b82f14f98fc",
     "grade": false,
     "grade_id": "cell-43442d48e1ff51a4",
     "locked": true,
     "schema_version": 3,
     "solution": false,
     "task": false
    }
   },
   "source": [
    "## MDP, gridworld and agent environments\n",
    "\n",
    "We will use a gym based environment for our MDP in this and the next exercise (as in the first exercise with the multi-armed bandit). For the implementation inside the env we still use the already implemented MDP class that we used for the dynamic programming exercise. We use the different gridworld environments to set up the MDPs.\n",
    "\n",
    "The gym.Env environment simulates the task more adequatly, as we can only input the next action for an agent passing through the gridworld MDP and it also allows us to use different training algorithm with the same interface.\n",
    "\n",
    "We will use the latest implementation as described in\n",
    "[https://gymnasium.farama.org/index.html](https://gymnasium.farama.org/index.html)\n"
   ]
  },
  {
   "cell_type": "code",
   "execution_count": 96,
   "id": "59d05835",
   "metadata": {
    "deletable": false,
    "editable": false,
    "nbgrader": {
     "cell_type": "code",
     "checksum": "453f39df110ea24f0b6f5717c9b95a31",
     "grade": false,
     "grade_id": "cell-9c2ef31ffddf18f7",
     "locked": true,
     "schema_version": 3,
     "solution": false,
     "task": false
    }
   },
   "outputs": [],
   "source": [
    "class MDPEnv(gym.Env):\n",
    "    \"\"\"\n",
    "    Environment around an MDP which is given at initialization. The env contains the current state\n",
    "    of the agent and will update it according to the actions. The agent is only able to observe the new state after its action.\n",
    "\n",
    "    The initial position and the position after reset is given in the initializer.\n",
    "    \"\"\"\n",
    "\n",
    "    def __init__(self, states: [RState], nr_actions: int, start_state_id: int):\n",
    "        \"\"\"\n",
    "        Initialize the environment.\n",
    "        Args:\n",
    "            states:  list of states in the MDP\n",
    "            nr_actions: the (maximal) number of actions for a state in the MDP\n",
    "            start_state_id: id of the start state\n",
    "        \"\"\"\n",
    "        # we keep a reference to the states for the interaction\n",
    "        self._states = states\n",
    "\n",
    "        # the start state and current state\n",
    "        self._start_state_id = start_state_id\n",
    "        self._current_state = self._states[self._start_state_id]\n",
    "\n",
    "        # action space consists of moving in each direction\n",
    "        self.action_space = gym.spaces.Discrete(nr_actions)\n",
    "\n",
    "        # The observation is the id of the state after the action\n",
    "        self.observation_space = gym.spaces.Discrete(len(states))\n",
    "\n",
    "    def step(self, action: int) -> tuple[int, float, bool, bool, dict]:\n",
    "        \"\"\"\n",
    "\n",
    "        Args:\n",
    "            action: The action to take\n",
    "        Returns:\n",
    "            observation: the observation due to the agent's action\n",
    "            reward: the reward as a result of the action\n",
    "            terminated (bool): whether the agent reaches a terminal state\n",
    "            truncated (bool): whether the episode is truncated due to the maximum number of steps\n",
    "            info (dict): additional information\n",
    "        \"\"\"\n",
    "        self._current_state, reward = self._current_state.take_action(action)\n",
    "        return self._current_state.state_id, reward, self._current_state.is_terminal, False, {}\n",
    "\n",
    "    def reset(self) -> tuple[int, dict]:\n",
    "        \"\"\"\n",
    "        Reset the environment to the initial state.\n",
    "        Returns:\n",
    "            observation: the observation of the initial state\n",
    "            info (dict): additional information\n",
    "        \"\"\"\n",
    "        self._current_state = self._states[self._start_state_id]\n",
    "        return self._current_state.state_id, {}\n",
    "\n",
    "    def render(self, mode='human'):\n",
    "        pass\n"
   ]
  },
  {
   "cell_type": "markdown",
   "id": "73f47ad6",
   "metadata": {},
   "source": [
    "Similar to the first exercise we will use an agent class that should learn choosing the best actions, i.e. the best policy. For comparison, we again implement a random agent first.\n",
    "\n",
    "Our discrete agent will need to use tables for the state value or state-action value function, so we will pass the action and state spaces from the environment.\n",
    "\n",
    "We add a train function in the agent this time for training the agent in a specific environment. The action space must be compatible to the action space of the environment."
   ]
  },
  {
   "cell_type": "code",
   "execution_count": 97,
   "id": "9750d00c",
   "metadata": {},
   "outputs": [],
   "source": [
    "class Agent:\n",
    "    \"\"\"\n",
    "    Class for an agent in our env.\n",
    "    \"\"\"\n",
    "\n",
    "    def __init__(self, action_space, state_space):\n",
    "        self._action_space = action_space\n",
    "        self._state_space = state_space\n",
    "\n",
    "    def reset(self) -> (int, int):\n",
    "        \"\"\"\n",
    "        Reset the learning of the agent to an initial condition, so it can be used again, for example to\n",
    "        compare different runs.\n",
    "        \"\"\"\n",
    "        raise NotImplementedError\n",
    "\n",
    "    def step_first(self, observation):\n",
    "        \"\"\"\n",
    "        First step after reset or initialization with the first observation from the environment.\n",
    "        Args:\n",
    "            observation: the current position of the agent\n",
    "        Returns:\n",
    "            the action for the first step\n",
    "        \"\"\"\n",
    "        raise NotImplementedError\n",
    "\n",
    "    def step(self, observation, reward: float, done: bool):\n",
    "        \"\"\"\n",
    "        Step in the environment. The reward given is the returned reward from the last action.\n",
    "        Args:\n",
    "            observation: the current position of the agent\n",
    "            reward: the reward obtained from the last action\n",
    "            done: the done returned from the last action on the environment (signals the end of an episode)\n",
    "        Returns:\n",
    "            the action\n",
    "        \"\"\"\n",
    "        raise NotImplementedError\n",
    "\n",
    "    def train(self, env: gym.Env, nr_episodes: int):\n",
    "        \"\"\"\n",
    "        Train the agent in the given environment\n",
    "        Args:\n",
    "            env: the env to train the agent on\n",
    "            nr_episodes: number of episodes to train.\n",
    "        \"\"\"\n",
    "        raise NotImplementedError\n",
    "\n",
    "\n",
    "class RandomAgent(Agent):\n",
    "\n",
    "    def reset(self):\n",
    "        pass\n",
    "\n",
    "    def step_first(self, observation):\n",
    "        # return a random action\n",
    "        return np.random.randint(self._action_space.n)\n",
    "\n",
    "    def step(self, observation, reward, done):\n",
    "        # return a random action\n",
    "        return np.random.randint(self._action_space.n)\n",
    "\n",
    "    def train(self, env: gym.Env, nr_episodes: int):\n",
    "        # nothing to train here\n",
    "        pass\n",
    "\n",
    "\n",
    "\n",
    "    "
   ]
  },
  {
   "cell_type": "markdown",
   "id": "7e52cd13",
   "metadata": {},
   "source": [
    "## Gridworld environment\n",
    "\n",
    "We will setup a gridworld as in the last example. We use a simpler gridworld in the beginning and will make some experiments with the one from the last exercise later as MC methods take longer to calculate."
   ]
  },
  {
   "cell_type": "code",
   "execution_count": 98,
   "id": "a71e8534",
   "metadata": {},
   "outputs": [
    {
     "data": {
      "image/png": "[encoded data removed]",
      "text/plain": [
       "<Figure size 640x480 with 1 Axes>"
      ]
     },
     "metadata": {},
     "output_type": "display_data"
    }
   ],
   "source": [
    "gw = MDPGridworld(height=4, width=3)\n",
    "gw.state(0,0).is_terminal = True\n",
    "gw.state(3,2).color = 'lightgreen'\n",
    "\n",
    "fig, ax = plt.subplots()\n",
    "gw.render(gw.all_state_ids(), ax)\n"
   ]
  },
  {
   "cell_type": "code",
   "execution_count": 99,
   "id": "75d06d24",
   "metadata": {
    "tags": []
   },
   "outputs": [
    {
     "name": "stdout",
     "output_type": "stream",
     "text": [
      "Visited states: [11, 8, 11, 11, 8, 5, 2, 2, 1, 1, 1, 0]\n",
      "Total return: -11.0\n"
     ]
    }
   ],
   "source": [
    "# Here is an example how to use just the env and agent classes to produce an episode using the random agent\n",
    "\n",
    "env = MDPEnv(gw.states, gw.NR_ACTIONS, 11)\n",
    "agent = RandomAgent(env.action_space, env.observation_space)\n",
    "\n",
    "obs, _ = env.reset()\n",
    "visited_states = [obs]\n",
    "g = 0.0\n",
    "# try one sample episode\n",
    "action = agent.step_first(obs)\n",
    "done = False\n",
    "while not done:\n",
    "    obs, reward, done, _, _ = env.step(action)\n",
    "    visited_states.append(obs)\n",
    "    g += reward\n",
    "    action = agent.step(obs, reward, done)\n",
    "\n",
    "print(f'Visited states: {visited_states}')\n",
    "print(f'Total return: {g}') "
   ]
  },
  {
   "cell_type": "markdown",
   "id": "cd8f0669",
   "metadata": {},
   "source": [
    "## Monte Carlo prediction\n",
    "\n",
    "Before implementing the agent, we will look at some standalone algorithms that we can then use as blueprints for implementing an agent.\n",
    "\n",
    "First, we want to start Monte Carlo methods with prediction. So we want to estimate the value function v(s) for a given policy and use the first visit MC as described on page 92 in the book or in the slides.\n",
    "\n",
    "In order to do this, let us write a function that generates one complete episode and returns a list of states and rewards that were visited in the episode."
   ]
  },
  {
   "cell_type": "code",
   "execution_count": 100,
   "id": "9ad57570",
   "metadata": {
    "deletable": false,
    "nbgrader": {
     "cell_type": "code",
     "checksum": "55fcee1fb77010932db8b2682a52c1ce",
     "grade": false,
     "grade_id": "cell-5f23e08c3bfa3895",
     "locked": false,
     "schema_version": 3,
     "solution": true,
     "task": false
    }
   },
   "outputs": [],
   "source": [
    "def generate_episode(env: gym.Env, policy: np.ndarray) -> ([], []):\n",
    "    \"\"\"\n",
    "    Reset the environment and generate an episode using the policy p. Return the list of states and rewards.\n",
    "    Args:\n",
    "        env: the environment to use\n",
    "        policy: the policy\n",
    "\n",
    "    Returns:\n",
    "        The list of states visited and the rewards obtained\n",
    "    \"\"\"\n",
    "    states = []\n",
    "    rewards = []\n",
    "\n",
    "    # reset the environment and add the observation (a state) to the states, then calculate the first action\n",
    "    # according to p\n",
    "    init_state,_ = env.reset()\n",
    "    states.append(init_state)\n",
    "    rewards.append(-1.0)\n",
    "    is_terminal = False\n",
    "    \n",
    "    next_state = init_state\n",
    "   \n",
    "    while is_terminal == False:\n",
    "        #print(next_state)\n",
    "        # you can use the function np.random.choice and supply its argument p to draw actions according to the policy\n",
    "        action = np.random.choice(policy.shape[1], p=policy[next_state,:])\n",
    "        next_state, next_reward, is_terminal,_,_ = env.step(action)\n",
    "        if is_terminal == False:\n",
    "            states.append(next_state)\n",
    "            rewards.append(next_reward)\n",
    "\n",
    "    #states.append(next_state)    \n",
    "    #rewards.append(next_reward)\n",
    "    return states, rewards"
   ]
  },
  {
   "cell_type": "code",
   "execution_count": 101,
   "id": "79f3efb9",
   "metadata": {
    "deletable": false,
    "editable": false,
    "nbgrader": {
     "cell_type": "code",
     "checksum": "b8334e59ad0a4d20cd48351148786c77",
     "grade": true,
     "grade_id": "cell-630937f2fad845a0",
     "locked": true,
     "points": 2,
     "schema_version": 3,
     "solution": false,
     "task": false
    }
   },
   "outputs": [
    {
     "name": "stdout",
     "output_type": "stream",
     "text": [
      "[11, 11, 8, 5, 2, 2, 2, 2, 2, 2, 2, 1, 2, 1, 1, 1, 1]\n",
      "[-1.0, -1.0, -1.0, -1.0, -1.0, -1.0, -1.0, -1.0, -1.0, -1.0, -1.0, -1.0, -1.0, -1.0, -1.0, -1.0, -1.0]\n"
     ]
    }
   ],
   "source": [
    "env = MDPEnv(gw.states, gw.NR_ACTIONS, 11)\n",
    "\n",
    "# random policy\n",
    "p = np.zeros((len(gw.states), gw.NR_ACTIONS))\n",
    "p.fill(1.0/gw.NR_ACTIONS)\n",
    "\n",
    "np.random.seed(1)\n",
    "states, rewards = generate_episode(env, p)\n",
    "print(states)\n",
    "print(rewards)\n",
    "# should have at least one state\n",
    "assert len(states) > 0\n",
    "# same number of rewards than states\n",
    "assert len(states) == len(rewards)\n",
    "# all rewards are -1.0 \n",
    "assert np.all(np.array(rewards) == -1.0)\n",
    "# the terminal state should not be included in the list\n",
    "for s in states:\n",
    "    assert (not gw.states[s].is_terminal)\n"
   ]
  },
  {
   "cell_type": "markdown",
   "id": "2beb5e48",
   "metadata": {},
   "source": [
    "## MC Prediction of state-value function\n",
    "\n",
    "We can now calculate the Monte Carlo prediction using the generated episodes. Complete the function below to calculate the state-value prediction from a given episode."
   ]
  },
  {
   "cell_type": "code",
   "execution_count": 102,
   "id": "699133fb",
   "metadata": {
    "deletable": false,
    "nbgrader": {
     "cell_type": "code",
     "checksum": "c939d29a2919ba2a7015b055fd04c457",
     "grade": false,
     "grade_id": "cell-384156a04d6d0bad",
     "locked": false,
     "schema_version": 3,
     "solution": true,
     "task": false
    }
   },
   "outputs": [],
   "source": [
    "def monte_carlo_prediction(env: gym.Env,\n",
    "                           nr_states: int,\n",
    "                           policy: np.ndarray,\n",
    "                           gamma: float,\n",
    "                           num_repetitions: int) -> np.ndarray:\n",
    "    \"\"\"\n",
    "    Estimate the value function for the environment for the given policy p\n",
    "    Args:\n",
    "        env: the environment for interaction\n",
    "        nr_states: the number of states in the MDP of the environment\n",
    "        policy: the policy to evaluate\n",
    "        gamma: the discount factor\n",
    "        num_repetitions: The number of repetitions for training\n",
    "\n",
    "    Returns:\n",
    "        the state-value function for the policy\n",
    "    \"\"\"\n",
    "\n",
    "    # as in the slides we keep all returns for a state and initialize them to an empty list\n",
    "    returns = np.empty(nr_states, dtype=object)\n",
    "    for s_id in range(nr_states):\n",
    "        returns[s_id] = []\n",
    "\n",
    "    for _ in range(num_repetitions):\n",
    "        # generate a full episode and add the states and rewards\n",
    "        states, rewards = generate_episode(env, policy)\n",
    "\n",
    "        # now we should go back in reverse order and update the total return, going in reverse avoids\n",
    "        # summing the rewards multiple times\n",
    "        #\n",
    "        # careful: only update states that have not yet appeared in the episode before (first visit MC)\n",
    "        g = 0.0\n",
    "        state_rewards = np.zeros(policy.shape[0])\n",
    "        for step in reversed(range(len(states))):\n",
    "            # YOUR CODE HERE\n",
    "            g = gamma * g + rewards[step]\n",
    "            state_rewards[states[step]] = g  \n",
    "    # it is sufficient here to calculate v at the end, as we do not use it in the algorithm,\n",
    "    # i.e. the policy is given and does not depend on v\n",
    "        \n",
    "        for index, state in enumerate(state_rewards):\n",
    "            returns[index].append(state)\n",
    "    v = np.zeros(nr_states)\n",
    "    \n",
    "    # calculate v as mean value of all returns at each state\n",
    "    for index, array in enumerate(returns):\n",
    "        non_zero_returns = [r for r in array if r!=0]\n",
    "        v[index] = np.mean(non_zero_returns) if non_zero_returns else 0\n",
    "    \n",
    "    return v\n",
    "\n"
   ]
  },
  {
   "cell_type": "code",
   "execution_count": 103,
   "id": "7733336e",
   "metadata": {
    "deletable": false,
    "editable": false,
    "nbgrader": {
     "cell_type": "code",
     "checksum": "90c8529c066382ddec4468ddf0f7512d",
     "grade": true,
     "grade_id": "cell-1dad8443ac530770",
     "locked": true,
     "points": 2,
     "schema_version": 3,
     "solution": false,
     "task": false
    }
   },
   "outputs": [],
   "source": [
    "env = MDPEnv(gw.states, gw.NR_ACTIONS, 11)\n",
    "\n",
    "# random policy\n",
    "p = np.zeros((len(gw.states), gw.NR_ACTIONS))\n",
    "p.fill(1.0 / gw.NR_ACTIONS)\n",
    "\n",
    "np.random.seed(1)\n",
    "v = monte_carlo_prediction(env, nr_states=len(gw.states), policy=p, gamma=1.0, num_repetitions=1000)\n",
    "\n",
    "# value function at terminal states must be 0\n",
    "assert v[0] == 0.0\n",
    "\n",
    "# MC with 1000 iterations will still vary a bit around the result, this comparison should also work with different seeds or usages\n",
    "# of the random generator\n",
    "np.testing.assert_allclose(\n",
    "        [0., -21.13, -29.76, -21.42, -28.98, -32.25, -33.54, -36.74, -38.02, -39.22, -39.66, -40.784], v, atol=5.0)\n",
    "\n",
    "# test with different gamma\n",
    "v2 = monte_carlo_prediction(env, nr_states=len(gw.states), policy=p, gamma=0.9, num_repetitions=1000)\n",
    "np.testing.assert_allclose([0.0, -5.2, -7.0, -5.8, -7.0, -7.9, -8.0, -8.3, -8.6, -8.7, -8.8, -8.9], v2 , atol=2.0)\n",
    "\n"
   ]
  },
  {
   "cell_type": "markdown",
   "id": "a465501a",
   "metadata": {},
   "source": [
    "Let us look at the result with gamma = 1.0 and gamma = 0.9"
   ]
  },
  {
   "cell_type": "code",
   "execution_count": 104,
   "id": "d5c1e36d",
   "metadata": {},
   "outputs": [
    {
     "data": {
      "image/png": "[encoded data removed]",
      "text/plain": [
       "<Figure size 640x480 with 2 Axes>"
      ]
     },
     "metadata": {},
     "output_type": "display_data"
    }
   ],
   "source": [
    "fig, axs = plt.subplots(ncols=2)\n",
    "gw.render(v, axs[0])\n",
    "gw.render(v2, axs[1])\n"
   ]
  },
  {
   "cell_type": "markdown",
   "id": "f51c1863",
   "metadata": {},
   "source": [
    "## Estimating action values\n",
    "\n",
    "We would now like to implement the Monte Carlo Agent for estimating the best policy. Unfortunately the value functions is not so helpful for calculating a (greedy) policy as we can not maximize over all possible actions.\n",
    "\n",
    "It is therefor better to estimate the action-value function, from which we can then calculate a greedy policy.\n",
    "\n",
    "As a first step, implement the generate_episode function again, this times with also returning the actions.\n",
    "\n",
    "\n"
   ]
  },
  {
   "cell_type": "code",
   "execution_count": 105,
   "id": "4f02b27f",
   "metadata": {
    "deletable": false,
    "nbgrader": {
     "cell_type": "code",
     "checksum": "771bd2c86708236eb000dc6da2cbbf5f",
     "grade": false,
     "grade_id": "cell-0d2b6a9c6f54334a",
     "locked": false,
     "schema_version": 3,
     "solution": true,
     "task": false
    }
   },
   "outputs": [],
   "source": [
    "def generate_episode_with_actions(env: gym.Env, p) -> ([],[],[]):\n",
    "    \"\"\"\n",
    "    Reset the environment and generate an episode using the policy p. Return the list of states, actions and rewards.\n",
    "    Args:\n",
    "        env: the environment\n",
    "        p: the policy\n",
    "    Returns:\n",
    "        lists of states, rewards and actions\n",
    "    \"\"\"\n",
    "    states = []\n",
    "    rewards = []\n",
    "    actions = []\n",
    "\n",
    "    # reset the environment and add the observation (a state) to the states, then calculate the first action\n",
    "    # according to p\n",
    "    init_state,_ = env.reset()\n",
    "    states.append(init_state)\n",
    "    rewards.append(-1.0)\n",
    "    is_terminal = False\n",
    "    \n",
    "    next_state = init_state\n",
    "   \n",
    "    while is_terminal == False:\n",
    "        #print(next_state)\n",
    "        # you can use the function np.random.choice and supply its argument p to draw actions according to the policy\n",
    "        action = np.random.choice(p.shape[1], p=p[next_state,:])\n",
    "        actions.append(action)\n",
    "        next_state, next_reward, is_terminal,_,_ = env.step(action)\n",
    "        if is_terminal == False:\n",
    "            states.append(next_state)\n",
    "            rewards.append(next_reward)\n",
    "\n",
    "    return states, actions, rewards\n"
   ]
  },
  {
   "cell_type": "code",
   "execution_count": 106,
   "id": "78079687",
   "metadata": {
    "deletable": false,
    "editable": false,
    "nbgrader": {
     "cell_type": "code",
     "checksum": "39b9d5897603fa08bb1b9a5ded84ebfa",
     "grade": true,
     "grade_id": "cell-7a5ea6f5b43ab1f9",
     "locked": true,
     "points": 1,
     "schema_version": 3,
     "solution": false,
     "task": false
    }
   },
   "outputs": [],
   "source": [
    "env = MDPEnv(gw.states, gw.NR_ACTIONS, 11)\n",
    "\n",
    "# random policy\n",
    "p = np.zeros((len(gw.states), gw.NR_ACTIONS))\n",
    "p.fill(1.0/gw.NR_ACTIONS)\n",
    "\n",
    "np.random.seed(1)\n",
    "states, actions, rewards = generate_episode_with_actions(env, p)\n",
    "# should have at least one state\n",
    "assert len(states) > 0\n",
    "# same number of actions than states\n",
    "assert len(actions) == len(states)\n"
   ]
  },
  {
   "cell_type": "markdown",
   "id": "dc96e929",
   "metadata": {},
   "source": [
    "## MC prediction of action-value function\n",
    "\n",
    "Now modify the prediction function to predict the action-value function."
   ]
  },
  {
   "cell_type": "code",
   "execution_count": 128,
   "id": "09ab9f0d",
   "metadata": {
    "deletable": false,
    "nbgrader": {
     "cell_type": "code",
     "checksum": "88a1561350991dc7d2bbd8cc0524a9b0",
     "grade": false,
     "grade_id": "cell-4b8ffba535ddb73c",
     "locked": false,
     "schema_version": 3,
     "solution": true,
     "task": false
    }
   },
   "outputs": [],
   "source": [
    "def monte_carlo_predict_action_value(env: gym.Env,\n",
    "                                     nr_states: int,\n",
    "                                     policy: np.ndarray,\n",
    "                                     gamma: float,\n",
    "                                     num_repetitions: int) -> np.ndarray:\n",
    "    \"\"\"\n",
    "    Estimate the action value function for the environment for the given policy\n",
    "    Args:\n",
    "        env: the environment for interaction\n",
    "        nr_states: the number of states in the MDP of the environment\n",
    "        policy: the policy to evaluate\n",
    "        gamma: the discount factor\n",
    "        num_repetitions: the number of repetitions for training\n",
    "    Returns:\n",
    "        the action-value function for the policy\n",
    "    \"\"\"\n",
    "    # we keep all returns for a state/action pair and initialize them to an empty list\n",
    "    nr_actions = env.action_space.n\n",
    "    returns = np.empty((nr_states, nr_actions), dtype=object)\n",
    "    matrix_stack = []\n",
    "    for s_id in range(nr_states):\n",
    "        for a in range(env.action_space.n):\n",
    "            returns[s_id, a] = []\n",
    "\n",
    "    for _ in range(num_repetitions):\n",
    "        # generate a full episode and add the states and rewards\n",
    "        states, actions, rewards = generate_episode_with_actions(env, policy)\n",
    "\n",
    "        # now we should go back in reverse order and update the total return\n",
    "        # careful: only update states that have not yet appeared in the episode (first visit MC)\n",
    "        g = 0.0\n",
    "        state_rewards = np.zeros((policy.shape[0], policy.shape[1]))\n",
    "        for step in reversed(range(len(states))):\n",
    "            # YOUR CODE HERE\n",
    "            g = gamma * g + rewards[step]\n",
    "            state_rewards[states[step], actions[step]] = g  \n",
    "        matrix_stack.append(state_rewards)\n",
    "            \n",
    "    # it is sufficient here to calculate q at the end, as we do not use it in the algorithm\n",
    "    q = np.zeros(returns.shape)\n",
    "\n",
    "    matrix_stack = np.array(matrix_stack)\n",
    "    matrix_stack[matrix_stack == 0] = np.nan  # Alle 0-Werte durch NaN ersetzen\n",
    "    \n",
    "    with warnings.catch_warnings():\n",
    "        warnings.simplefilter(\"error\", RuntimeWarning)\n",
    "        try:\n",
    "            q = np.nanmean(matrix_stack, axis=0)\n",
    "        except RuntimeWarning:\n",
    "            # Handle the warning here, e.g. set q to a default value\n",
    "            q = np.zeros(matrix_stack.shape[1])\n",
    "        q = np.nan_to_num(q, nan=0.0)  # Alle NaN-Werte durch 0 ersetzen\n",
    "\n",
    "    \n",
    "    return q\n",
    "\n",
    "    "
   ]
  },
  {
   "cell_type": "code",
   "execution_count": 129,
   "id": "811d9d37",
   "metadata": {
    "deletable": false,
    "editable": false,
    "nbgrader": {
     "cell_type": "code",
     "checksum": "031405c341ba4bdbb45bcdd08a979f6e",
     "grade": true,
     "grade_id": "cell-b5d2ab19d8fddf54",
     "locked": true,
     "points": 2,
     "schema_version": 3,
     "solution": false,
     "task": false
    }
   },
   "outputs": [
    {
     "name": "stderr",
     "output_type": "stream",
     "text": [
      "/tmp/ipykernel_47/568897068.py:45: RuntimeWarning: Mean of empty slice\n",
      "  q = np.nanmean(matrix_stack, axis=0)  # Mittelwert ohne Nullen berechnen\n"
     ]
    }
   ],
   "source": [
    "env = MDPEnv(gw.states, gw.NR_ACTIONS, 11)\n",
    "\n",
    "# random policy\n",
    "p = np.zeros((len(gw.states), gw.NR_ACTIONS))\n",
    "p.fill(1.0/gw.NR_ACTIONS)\n",
    "\n",
    "\n",
    "np.random.seed(1)\n",
    "q = monte_carlo_predict_action_value(env, nr_states=len(gw.states), policy=p, gamma=1.0, num_repetitions=1000)\n",
    "# value function at terminal states must be 0\n",
    "assert q[0, 0] == 0.0\n",
    "# value function at one besides the terminal state should be correct\n",
    "assert q[1,3] == -1.0\n",
    "\n",
    "q2 = monte_carlo_predict_action_value(env, nr_states=len(gw.states), policy=p, gamma=0.9, num_repetitions=1000)"
   ]
  },
  {
   "cell_type": "code",
   "execution_count": 109,
   "id": "f13ccf3e",
   "metadata": {},
   "outputs": [
    {
     "data": {
      "image/png": "[encoded data removed]",
      "text/plain": [
       "<Figure size 640x480 with 2 Axes>"
      ]
     },
     "metadata": {},
     "output_type": "display_data"
    }
   ],
   "source": [
    "# if we sum over all actions (and divide by the number of actions), we again get the value function as there is the same probability for each action\n",
    "fig, axs = plt.subplots(ncols=2)\n",
    "gw.render(q.sum(axis=1)/4,axs[0])\n",
    "gw.render(q2.sum(axis=1)/4,axs[1])"
   ]
  },
  {
   "cell_type": "markdown",
   "id": "75244e9a",
   "metadata": {},
   "source": [
    "However, the best action would be the one that maximises the return. So this plot should be a bit closer to the expected result as one optimal action would be taken.\n"
   ]
  },
  {
   "cell_type": "code",
   "execution_count": 110,
   "id": "391c8234",
   "metadata": {},
   "outputs": [
    {
     "data": {
      "image/png": "[encoded data removed]",
      "text/plain": [
       "<Figure size 640x480 with 2 Axes>"
      ]
     },
     "metadata": {},
     "output_type": "display_data"
    }
   ],
   "source": [
    "fig, axs = plt.subplots(ncols=2)\n",
    "gw.render(q.max(axis=1),axs[0])\n",
    "gw.render(q2.max(axis=1),axs[1])"
   ]
  },
  {
   "cell_type": "markdown",
   "id": "e11af719",
   "metadata": {},
   "source": [
    "## Calculation of greedy policy\n",
    "\n",
    "Now it is possible to calculate a greedy policy from the action values. Remember that your policy function should still be an array with the probability for each action. So one of the entries will be 1 and the others will be 0 for a greedy action."
   ]
  },
  {
   "cell_type": "code",
   "execution_count": 111,
   "id": "f7dd2d82",
   "metadata": {
    "deletable": false,
    "nbgrader": {
     "cell_type": "code",
     "checksum": "2ad2b427256651cd14db1ebc853b2ee3",
     "grade": false,
     "grade_id": "cell-30427e9889e1e594",
     "locked": false,
     "schema_version": 3,
     "solution": true,
     "task": false
    }
   },
   "outputs": [],
   "source": [
    "def greedy_from_action_values(q) -> np.ndarray:\n",
    "    \"\"\"\n",
    "    Calculate a greedy policy from the action values.\n",
    "    Args:\n",
    "        q: the action values\n",
    "    Returns:\n",
    "        the greedy policy\n",
    "\n",
    "    \"\"\"\n",
    "    # YOUR CODE HERE\n",
    "    policy = np.zeros((len(q), len(q[0])))\n",
    "    \n",
    "    for index_outer, state in enumerate( q):\n",
    "        greedy_action_value = -100000\n",
    "        greedy_action_index = -1\n",
    "        for index, action_value in enumerate (state):\n",
    "            if action_value > greedy_action_value:\n",
    "                greedy_action_value = action_value\n",
    "                greedy_action_index = index\n",
    "        policy[index_outer][index] = 1\n",
    "                \n",
    "    return policy\n",
    "    "
   ]
  },
  {
   "cell_type": "code",
   "execution_count": 112,
   "id": "62aa635f",
   "metadata": {
    "deletable": false,
    "editable": false,
    "nbgrader": {
     "cell_type": "code",
     "checksum": "1d9389493deb91f81793ad4dcd063b66",
     "grade": true,
     "grade_id": "cell-3d4e37edd3c75114",
     "locked": true,
     "points": 1,
     "schema_version": 3,
     "solution": false,
     "task": false
    }
   },
   "outputs": [],
   "source": [
    "p_greedy = greedy_from_action_values(q)\n",
    "assert p_greedy.shape == q.shape\n",
    "\n",
    "p_greedy = greedy_from_action_values(q)\n",
    "\n",
    "assert p_greedy[1,0] == 0.0\n",
    "assert p_greedy[1,0] == 0.0\n",
    "assert p_greedy[1,2] == 0.0\n",
    "assert p_greedy[1,3] == 1.0"
   ]
  },
  {
   "cell_type": "markdown",
   "id": "94dd1f35-e3a0-45c5-8e53-af8b5bb665c5",
   "metadata": {},
   "source": [
    "Let us plot the greedy policy after 1 iteration, i.e. greedy after the value function from the random policy"
   ]
  },
  {
   "cell_type": "code",
   "execution_count": 113,
   "id": "473c92f0-bf09-44a7-bcea-75c749b6209d",
   "metadata": {},
   "outputs": [
    {
     "data": {
      "image/png": "[encoded data removed]",
      "text/plain": [
       "<Figure size 640x480 with 1 Axes>"
      ]
     },
     "metadata": {},
     "output_type": "display_data"
    }
   ],
   "source": [
    "plot_policy_values(p_greedy, q.sum(axis=1)/4, gw)"
   ]
  },
  {
   "cell_type": "markdown",
   "id": "004461ea",
   "metadata": {},
   "source": [
    "## Agent implementation of on-policy MC control\n",
    "\n",
    "We would now like to complete an implementation of MC control in the agent interface. While we could directly use the methods developed so far for generalized policy iterations, our implementations have used the property of the environment to produce a random start position, this is called a exploring starts algorithm. Without that feature, some of the states might not be visited at all when a (deterministic) greedy policy is used.\n",
    "\n",
    "A possible solution is to use a policy that keeps exploring by setting the probability to any action in any state > 0. Such policies are called epsilon-soft. In more detail, we use the epsilon greedy policy that we already encountered for the multi-armed bandit problem.\n",
    "\n",
    "The MC algorithm to implement is a so called on-policy algorithm, it follows a policy while improving it.\n",
    "\n",
    "One other change that we will make is to update the returns incrementally instead of keeping them all in a list. We have done that already in the first exercise with the bandit agents.\n",
    "\n",
    "Complete the code below to implement the class."
   ]
  },
  {
   "cell_type": "code",
   "execution_count": 114,
   "id": "77b08499",
   "metadata": {
    "deletable": false,
    "nbgrader": {
     "cell_type": "code",
     "checksum": "e409d57e4964608042b1985929942906",
     "grade": false,
     "grade_id": "cell-abde408739a48d01",
     "locked": false,
     "schema_version": 3,
     "solution": true,
     "task": false
    }
   },
   "outputs": [],
   "source": [
    "class MonteCarloAgentFirstVisit(Agent):\n",
    "    \"\"\"\n",
    "    Monte Carlo Agent to implement training using first visit MC\n",
    "    \"\"\"\n",
    "\n",
    "    def __init__(self, action_space, state_space, gamma: float, epsilon: float):\n",
    "        \"\"\"\n",
    "        Args:\n",
    "            action_space: the action space of the environment\n",
    "            state_space: the state space of the environment\n",
    "            gamma: the discount factor\n",
    "            epsilon: the epsilon for the epsilon greedy policy\n",
    "        \"\"\"\n",
    "        super().__init__(action_space, state_space)\n",
    "        self._epsilon = epsilon\n",
    "        self._gamma = gamma\n",
    "\n",
    "        # The policy function for the agent gives the probability for each action in each state\n",
    "        #\n",
    "        self._pi = np.zeros((self._state_space.n,  self._action_space.n))\n",
    "        self._pi.fill(1.0 / self._action_space.n)\n",
    "\n",
    "        # We want to estimate the state-action value function. For the incremental calculation, we\n",
    "        # keep the current (mean) value and also store how many times the action has been taken\n",
    "        self._q = np.zeros((self._state_space.n, self._action_space.n))\n",
    "        # number of times the action has been taken in this state\n",
    "        self._q_count = np.zeros((self._state_space.n, self._action_space.n), dtype=int)\n",
    "\n",
    "        # list of states, actions and rewards for the current episode\n",
    "        self._states = []\n",
    "        self._actions = []\n",
    "        self._rewards = []\n",
    "\n",
    "    @property\n",
    "    def q(self):\n",
    "        return self._q\n",
    "\n",
    "    @property\n",
    "    def policy(self):\n",
    "        return self._pi\n",
    "\n",
    "    def reset(self):\n",
    "        \"\"\"\n",
    "        Reset the learning of the agent to an initial condition, so it can be used in a new env.\n",
    "        \"\"\"\n",
    "        # set the q values to 0 and the policy to the random policy\n",
    "        # YOUR CODE HERE\n",
    "        self._q = np.zeros((self._state_space.n, self._action_space.n))\n",
    "        self._pi.fill(1.0 / self._action_space.n)\n",
    "\n",
    "    def step_first(self, observation) -> int:\n",
    "        \"\"\"\n",
    "\n",
    "        Args:\n",
    "            observation: the observation from the environment, here this is the state id\n",
    "\n",
    "        Returns:\n",
    "            the action to take\n",
    "\n",
    "        \"\"\"\n",
    "\n",
    "        # initialize state, actions and rewards for this episode\n",
    "        self._states = []\n",
    "        self._actions = []\n",
    "        self._rewards = []\n",
    "\n",
    "        # remember the observation (state id)\n",
    "        self._states.append(observation)\n",
    "\n",
    "        # generate action according to the policy\n",
    "        possible_actions = self._pi[observation]\n",
    "        probabilities = self._pi[observation,:]\n",
    "        action = np.random.choice(self._pi.shape[1], p=probabilities)\n",
    "        \n",
    "        #remember action\n",
    "        if action is not None:\n",
    "            self._actions.append(action)\n",
    "            return action\n",
    "        else:\n",
    "            print(\"Policy shape: \", self._pi.shape[1], \"Probabilities: \", probabilities)\n",
    "            raise Exception(\"Action is None!\")\n",
    "            \n",
    "\n",
    "        return action\n",
    "        \n",
    "    def step(self, observation, reward, done) -> int:\n",
    "        \"\"\"\n",
    "        Calculate the next action (if not done) and update the q values\n",
    "        Args:\n",
    "            observation: the observation (state id) resulting from the last action\n",
    "            reward: the reward from the last action\n",
    "            done: true if a terminal state has been reached\n",
    "        Returns:\n",
    "            the calculated action or NONE if done is true\n",
    "        \"\"\"\n",
    "\n",
    "        # append the reward for the last action\n",
    "        self._rewards.append(reward)\n",
    "\n",
    "        if not done:\n",
    "            # we have to do the same as in the first_step: remember the observation and calculate and return an action.\n",
    "            # YOUR CODE HERE\n",
    "            self._states.append(observation)\n",
    "            action = np.random.choice(self._pi.shape[1], p=self._pi[observation,:])\n",
    "            self._actions.append(action)\n",
    "            return action\n",
    "\n",
    "        else:\n",
    "            # an episode is finished, so we can update the q values and the policy\n",
    "            assert len(self._states) == len(self._actions)\n",
    "            assert len(self._states) == len(self._rewards)\n",
    "\n",
    "            # calculate total return from state\n",
    "            g = 0.0\n",
    "            for step in reversed(range(len(self._states))):\n",
    "                g = self._gamma * g + self._rewards[step]\n",
    "                s = self._states[step]\n",
    "                a = self._actions[step]\n",
    "\n",
    "                # check if s/a appears in the rest of the sequence (as in the MC calculation before)\n",
    "                found = False\n",
    "                # YOUR CODE HERE finds if state action pair occurs earlier\n",
    "                for i in range(step-1, -1, -1):\n",
    "                    # Check if both state and action are equivalent (using np.array_equal for array comparison)\n",
    "                    if np.array_equal(self._states[i], s) and np.array_equal(self._actions[i], a):\n",
    "                        found = True\n",
    "                        break\n",
    "                \n",
    "                if not found:\n",
    "                    # update the q values\n",
    "                    # YOUR CODE HERE\n",
    "                    current_q_value = self._q[s][a]\n",
    "                    current_q_count = self._q_count[s][a]\n",
    "                    \n",
    "                    self._q[s][a] = (current_q_count + g) / (current_q_count + 1)\n",
    "                    self._q_count[s][a] += 1\n",
    "\n",
    "                    # we now want to update the policy, let us first get the best (greedy action)\n",
    "                    best_action = max_arg_with_ties(self._q[s, :])\n",
    "\n",
    "                    # now update the policy with the correct probabilities for an epsilon-greedy policy\n",
    "                    # (as in the slide for on-policy first-visit MC control)\n",
    "                    # YOUR CODE HERE\n",
    "                    actions = self._pi[s]\n",
    "                    for action in actions:\n",
    "                        self._pi[s] = (self._epsilon / self._action_space.n)\n",
    "                    actions[best_action] += 1-self._epsilon\n",
    "                    \n",
    "            # return None, as there is no action from a terminal state\n",
    "            return None\n",
    "\n",
    "    def train(self, env: gym.Env, nr_episodes: int):\n",
    "        for _ in tqdm.trange(nr_episodes):\n",
    "            obs, _ = env.reset()\n",
    "            a = self.step_first(obs)\n",
    "            done = False\n",
    "            while not done:\n",
    "                obs, reward, done, _, _ = env.step(a)\n",
    "                a = self.step(obs, reward, done)\n"
   ]
  },
  {
   "cell_type": "code",
   "execution_count": 115,
   "id": "028cd8cb",
   "metadata": {
    "deletable": false,
    "editable": false,
    "nbgrader": {
     "cell_type": "code",
     "checksum": "4faa5488862ed2e1df2f0c1d8bea193d",
     "grade": true,
     "grade_id": "cell-4aa106ef94a22e83",
     "locked": true,
     "points": 2,
     "schema_version": 3,
     "solution": false,
     "task": false
    }
   },
   "outputs": [],
   "source": [
    "env = MDPEnv(gw.states, gw.NR_ACTIONS, 11)\n",
    "agent = MonteCarloAgentFirstVisit(env.action_space, env.observation_space, gamma=1.0, epsilon=0.1)\n",
    "\n",
    "# test reset\n",
    "agent.reset()\n",
    "assert (agent.q == 0.0).all()\n",
    "assert (agent._q_count == 0).all()\n",
    "assert (agent.policy == 0.25).all()\n",
    "\n",
    "# simulate one step\n",
    "a = agent.step_first(2)\n",
    "assert a >= 0\n",
    "assert a < 4\n",
    "\n",
    "# simulate end of episode\n",
    "a2 = agent.step(0, -1, True)\n",
    "assert a2 is None\n",
    "\n",
    "# this action was taken\n",
    "assert agent._q_count[2, a] == 1\n",
    "# this value was updated\n",
    "assert agent.q[2, a] == -1\n",
    "# this action was not the best, so its probability must be epsilon/4 now\n",
    "assert agent.policy[2, a] == 0.025\n",
    "assert agent.policy[2, :].sum() == 1.0"
   ]
  },
  {
   "cell_type": "code",
   "execution_count": 116,
   "id": "6c2147a1",
   "metadata": {},
   "outputs": [
    {
     "name": "stderr",
     "output_type": "stream",
     "text": [
      "100%|██████████| 100/100 [00:21<00:00,  4.70it/s]\n"
     ]
    }
   ],
   "source": [
    "env = MDPEnv(gw.states, gw.NR_ACTIONS, 11)\n",
    "agent = MonteCarloAgentFirstVisit(env.action_space, env.observation_space, gamma=1.0, epsilon=0.1)\n",
    "agent.reset()\n",
    "\n",
    "# let us make a first test with 100 episodes\n",
    "agent.train(env, 100)"
   ]
  },
  {
   "cell_type": "code",
   "execution_count": 117,
   "id": "c44b0ef0",
   "metadata": {},
   "outputs": [
    {
     "data": {
      "image/png": "[encoded data removed]",
      "text/plain": [
       "<Figure size 640x480 with 1 Axes>"
      ]
     },
     "metadata": {},
     "output_type": "display_data"
    }
   ],
   "source": [
    "fig, ax = plt.subplots(ncols=1)\n",
    "gw.render(agent.q.max(axis=1),ax)"
   ]
  },
  {
   "cell_type": "markdown",
   "id": "f7381b9c-f0ac-4078-a11d-12dc5aacb260",
   "metadata": {},
   "source": [
    "The results do not seem so good yet, let us try with longer training and gamma = 0.9"
   ]
  },
  {
   "cell_type": "code",
   "execution_count": 118,
   "id": "5508f025",
   "metadata": {},
   "outputs": [
    {
     "name": "stderr",
     "output_type": "stream",
     "text": [
      "100%|██████████| 10000/10000 [00:04<00:00, 2267.39it/s]\n"
     ]
    }
   ],
   "source": [
    "env = MDPEnv(gw.states, gw.NR_ACTIONS, 11)\n",
    "agent = MonteCarloAgentFirstVisit(env.action_space, env.observation_space, gamma=0.9, epsilon=0.1)\n",
    "agent.reset()\n",
    "agent.train(env, 10000)"
   ]
  },
  {
   "cell_type": "code",
   "execution_count": 119,
   "id": "87a2ab65",
   "metadata": {},
   "outputs": [
    {
     "data": {
      "image/png": "[encoded data removed]",
      "text/plain": [
       "<Figure size 640x480 with 1 Axes>"
      ]
     },
     "metadata": {},
     "output_type": "display_data"
    }
   ],
   "source": [
    "p_greedy = greedy_from_action_values(agent.q)\n",
    "plot_policy_values(p_greedy, q.max(axis=1), gw)"
   ]
  },
  {
   "cell_type": "markdown",
   "id": "f0c7835c",
   "metadata": {},
   "source": [
    "As the last experiment, we want to try the MC algorithm on the slippery gridworld from the last exercise. "
   ]
  },
  {
   "cell_type": "code",
   "execution_count": 120,
   "id": "a31ddaae-6e07-4a30-b667-c7724dccdbcf",
   "metadata": {},
   "outputs": [
    {
     "data": {
      "image/png": "[encoded data removed]",
      "text/plain": [
       "<Figure size 640x480 with 1 Axes>"
      ]
     },
     "metadata": {},
     "output_type": "display_data"
    }
   ],
   "source": [
    "gws = SlipperyGridworld(4, 3)\n",
    "gws.state(0,0).is_terminal = True\n",
    "gws.state(3,2).color = 'lightgreen'\n",
    "\n",
    "gws.add_wall(0,0,1,0)\n",
    "gws.add_slippery_patch(1,2, 0.4)\n",
    "gws.add_slippery_patch(2,1, 0.5)\n",
    "\n",
    "fig, ax = plt.subplots()\n",
    "gws.render(gws.all_state_ids(), ax)"
   ]
  },
  {
   "cell_type": "code",
   "execution_count": 121,
   "id": "ee02f630-523d-4935-a499-8b0d1b3efdfc",
   "metadata": {},
   "outputs": [
    {
     "name": "stderr",
     "output_type": "stream",
     "text": [
      "100%|██████████| 10000/10000 [00:26<00:00, 382.49it/s]\n"
     ]
    },
    {
     "data": {
      "image/png": "[encoded data removed]",
      "text/plain": [
       "<Figure size 640x480 with 1 Axes>"
      ]
     },
     "metadata": {},
     "output_type": "display_data"
    }
   ],
   "source": [
    "env = MDPEnv(gws.states, gws.NR_ACTIONS, 11)\n",
    "agent = MonteCarloAgentFirstVisit(env.action_space, env.observation_space, gamma=0.9, epsilon=0.1)\n",
    "agent.reset()\n",
    "agent.train(env, 10000)\n",
    "p_greedy = greedy_from_action_values(agent.q)\n",
    "plot_policy_values(p_greedy, agent.q.max(axis=1), gws)"
   ]
  },
  {
   "cell_type": "markdown",
   "id": "311e6e3b",
   "metadata": {},
   "source": [
    "How does this compare to the algorithm from last week? \n",
    "\n",
    "This is all for the exercise. "
   ]
  },
  {
   "cell_type": "code",
   "execution_count": null,
   "id": "f9c183d5-6672-43a2-93e6-0be80af83231",
   "metadata": {},
   "outputs": [],
   "source": []
  }
 ],
 "metadata": {
  "kernelspec": {
   "display_name": "Python 3 (ipykernel)",
   "language": "python",
   "name": "python3"
  },
  "language_info": {
   "codemirror_mode": {
    "name": "ipython",
    "version": 3
   },
   "file_extension": ".py",
   "mimetype": "text/x-python",
   "name": "python",
   "nbconvert_exporter": "python",
   "pygments_lexer": "ipython3",
   "version": "3.12.8"
  }
 },
 "nbformat": 4,
 "nbformat_minor": 5
}
