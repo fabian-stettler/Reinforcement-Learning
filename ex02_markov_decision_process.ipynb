{
 "cells": [
  {
   "cell_type": "markdown",
   "id": "ef7836d1-40cf-4da9-80d1-f8dc0146382f",
   "metadata": {},
   "source": [
    "# Exercise 02: Markov Decision Processes\n",
    "\n",
    "In this exercise, we want to look at markov decision processes (MDP) and how to model and use them.\n",
    "\n"
   ]
  },
  {
   "cell_type": "code",
   "execution_count": 2,
   "id": "87df1abb-2aeb-492c-89f9-75e1c3e4921d",
   "metadata": {},
   "outputs": [],
   "source": [
    "import numpy as np\n",
    "import math\n",
    "import matplotlib.pyplot as plt"
   ]
  },
  {
   "cell_type": "markdown",
   "id": "4a34a1fc-be3f-4fb2-89ea-0e101e730efe",
   "metadata": {},
   "source": [
    "A MDP is modelled by states and transition between states through the function\n",
    "\n",
    "$$\\def\\Pr#1{{{\\mathrm{Pr}\\!}\\left\\{#1\\right\\}}}p(s',r|s,a) \\doteq \\Pr{S_t\\!=\\!s', R_t\\!=\\!r\\;|\\;S_{t-1}\\!=\\!s, A_{t-1}\\!=\\!a}$$\n",
    "\n",
    "We will model this in a class for a state that contains the list of transitions for each actions. Each transition contains the next state and the corresponding reward.\n",
    "\n",
    "Please study the definition of the class below."
   ]
  },
  {
   "cell_type": "code",
   "execution_count": 3,
   "id": "9d3e3f58-6de6-465a-b64f-a325a9383bea",
   "metadata": {},
   "outputs": [],
   "source": [
    "class RState:\n",
    "    \"\"\"\n",
    "    State in a stochastic MDP. Each action can result in different states and rewards.\n",
    "    \"\"\"\n",
    "\n",
    "    def __init__(self, state_id):\n",
    "        self._state_id = state_id\n",
    "        # each transition is tuple with (probability, next_state, reward)\n",
    "        # for each action, we have a list of transitions\n",
    "        self._transitions = {}\n",
    "        self._is_terminal = False\n",
    "\n",
    "    @property\n",
    "    def state_id(self):\n",
    "        return self._state_id\n",
    "\n",
    "    @property\n",
    "    def is_terminal(self) -> bool:\n",
    "        return self._is_terminal\n",
    "\n",
    "    @is_terminal.setter\n",
    "    def is_terminal(self, value):\n",
    "        self._is_terminal = value\n",
    "\n",
    "    def add_transition(self, action, next_state, reward, probability):\n",
    "        \"\"\"\n",
    "        Add a transition to the state.\n",
    "        Args:\n",
    "            action: action for which the transition is added\n",
    "            next_state: the next state after taking the action\n",
    "            reward: the reward for taking the action\n",
    "            probability: the probability of the transition\n",
    "        \"\"\"\n",
    "        if action not in self._transitions:\n",
    "            self._transitions[action] = []\n",
    "        self._transitions[action].append([probability, next_state, reward])\n",
    "\n",
    "    def add_transition_rescale(self, action, next_state, reward, probability):\n",
    "        \"\"\"\n",
    "        Add a transition to the state with the give probability and rescale all other transition probabilities\n",
    "        so that the probabilities sum to 1.0.\n",
    "\n",
    "        Args:\n",
    "            action: action for which the transition is added\n",
    "            next_state: the next state after taking the action\n",
    "            reward: the reward for taking the action\n",
    "            probability: the probability of the transition\n",
    "        \"\"\"\n",
    "        if action not in self._transitions:\n",
    "            self._transitions[action] = []\n",
    "\n",
    "        # check if the previous transitions sum to 1.0, if not they need to be rescaled for that too\n",
    "        sum_prob = 0.0\n",
    "        for p, _, _ in self._transitions[action]:\n",
    "            sum_prob += p\n",
    "        scale = 1.0 / sum_prob\n",
    "        scale *= (1.0 - probability)\n",
    "        transitions = self._transitions[action]\n",
    "        for i in range(len(transitions)):\n",
    "            transitions[i][0] *= scale\n",
    "        self._transitions[action].append((probability, next_state, reward))\n",
    "\n",
    "    def take_action(self, action) -> (int, float):\n",
    "        \"\"\"\n",
    "            Take an action in the state to get the next state and reward\n",
    "        Args:\n",
    "            action: the action to take\n",
    "\n",
    "        Returns:\n",
    "            the next state and reward\n",
    "        \"\"\"\n",
    "        if self._is_terminal:\n",
    "            raise Exception(\"Action on terminal state\")\n",
    "\n",
    "        # select a transition according to the probabilities\n",
    "        transitions = self._transitions[action]\n",
    "        probabilities = [p for p, _, _ in transitions]\n",
    "        index = np.random.choice(len(transitions), p=probabilities)\n",
    "        _, next_state, reward = transitions[index]\n",
    "        return next_state, reward"
   ]
  },
  {
   "cell_type": "markdown",
   "id": "ccf7f4a6-7bb9-46d3-a746-67ebca436860",
   "metadata": {},
   "source": [
    "## Defining an MDP\n",
    "\n",
    "Using the class above, we would like to model the MDP given by the following diagram\n",
    "\n",
    "<div>\n",
    "<img src=\"MDP.png\" width=\"40%\"/>\n",
    "</div>\n",
    "\n",
    "where s2 is a terminal state. \n",
    "So for example for action $a_0$ in $S_0$, there is a 70% change to reach state $S_1$ and a 30% change to stay in state $S_0$.\n",
    "\n",
    "Add the necessary commands to create that MDP. All actions give a reward of -1."
   ]
  },
  {
   "cell_type": "code",
   "execution_count": 4,
   "id": "d6a48ef8-a3a1-4985-bec8-737e5e2cbdb6",
   "metadata": {
    "deletable": false,
    "nbgrader": {
     "cell_type": "code",
     "checksum": "b1c806d47b6f2b65985d712bbd77430a",
     "grade": false,
     "grade_id": "cell-cb422877ccf459ba",
     "locked": false,
     "schema_version": 3,
     "solution": true,
     "task": false
    }
   },
   "outputs": [],
   "source": [
    "# states\n",
    "s0 = RState(0)\n",
    "s1 = RState(1)\n",
    "s2 = RState(2)\n",
    "\n",
    "# actions\n",
    "a0 = 0\n",
    "a1 = 1\n",
    "\n",
    "# YOUR CODE HERE\n",
    "s0.add_transition(a0, s1, -1, 1)\n",
    "s0.add_transition_rescale(a0, s0, -1, 0.7)\n",
    "s0.add_transition(a1, s2, -1, 1)\n",
    "s0.add_transition_rescale(a1, s0, -1, 0.5)\n",
    "\n",
    "s1.add_transition(a0, s1, -1, 0.2)\n",
    "s1.add_transition(a0, s2, -1, 0.8)\n",
    "\n",
    "s1.add_transition(a1, s0, -1, 0.6)\n",
    "s1.add_transition(a1, s1, -1, 0.4)\n",
    "\n",
    "s2._is_terminal = True\n",
    "\n",
    "\n",
    "\n",
    "\n"
   ]
  },
  {
   "cell_type": "code",
   "execution_count": 5,
   "id": "e9d10d91-1aa6-4a4b-a2fd-f051bb1972ad",
   "metadata": {
    "deletable": false,
    "editable": false,
    "nbgrader": {
     "cell_type": "code",
     "checksum": "2859e17423ec954a816d68cfe2ac46c4",
     "grade": true,
     "grade_id": "cell-ebb6bb5026ce4808",
     "locked": true,
     "points": 2,
     "schema_version": 3,
     "solution": false,
     "task": false
    }
   },
   "outputs": [],
   "source": [
    "assert s2.is_terminal\n",
    "assert not s0.is_terminal\n",
    "assert not s1.is_terminal\n",
    "\n",
    "assert len(s0._transitions) == 2\n",
    "assert len(s0._transitions[a0]) == 2\n",
    "\n",
    "t0 = s0._transitions[a0][0]\n",
    "t1 = s0._transitions[a0][1]\n",
    "assert t0[0] == 0.3 or t1[0]==0.7\n",
    "assert t0[2] == -1\n",
    "assert t0[1] == s1 or t1[1] == s1"
   ]
  },
  {
   "cell_type": "markdown",
   "id": "701ad896-56cc-4c1d-bef6-ac13861b55ee",
   "metadata": {},
   "source": [
    "## Policy function\n",
    "\n",
    "Now we want to define a policy for this MDP. A policy defines a probability for each action in each state. We want to start with a uniformely random policy, so that each action has the same probability.\n",
    "\n",
    "\n",
    "Define an appropriate matrix using numpy. As $S_2$ is a terminal state, there can never be an action taken in this states. The only states with actions are $S_0$ and $S_1$, and the possible actions for both states are $A_0$ and $A_1$. Use the state as the first index in the matrix and the action as the second.\n",
    "\n"
   ]
  },
  {
   "cell_type": "code",
   "execution_count": 6,
   "id": "fa0339ec-1597-47dc-b6f8-9ef0e542127d",
   "metadata": {
    "deletable": false,
    "nbgrader": {
     "cell_type": "code",
     "checksum": "ff91922a7a6b30f387dcfd19ee64d389",
     "grade": false,
     "grade_id": "cell-01dbf913bea5070d",
     "locked": false,
     "schema_version": 3,
     "solution": true,
     "task": false
    }
   },
   "outputs": [],
   "source": [
    "policy = None\n",
    "\n",
    "# Redefine the policy variable\n",
    "# YOUR CODE HERE\n",
    "policy = np.array([[0.5,0.5],[0.5,.5]])\n"
   ]
  },
  {
   "cell_type": "code",
   "execution_count": 7,
   "id": "d6aa3c42-3658-48f1-b5f1-e50e04f03b58",
   "metadata": {
    "deletable": false,
    "editable": false,
    "nbgrader": {
     "cell_type": "code",
     "checksum": "04c8c9820e51d8e4a111a409d5f3ecc1",
     "grade": true,
     "grade_id": "cell-432e0f716e752b3b",
     "locked": true,
     "points": 1,
     "schema_version": 3,
     "solution": false,
     "task": false
    }
   },
   "outputs": [],
   "source": [
    "assert policy.shape == (2,2)\n",
    "assert policy[0,1] == 0.5"
   ]
  },
  {
   "cell_type": "markdown",
   "id": "f6f9bd23-8476-4de4-aece-9c0abc8fbb89",
   "metadata": {},
   "source": [
    "## Episodes\n",
    "\n",
    "In the next few lectures we will encounter episodes. An episode is a sequence of states (and rewards) until a terminal state is reached. \n",
    "\n",
    "We want to calculate different episodes and print the results.\n",
    "\n",
    "Complete the function sample_episode below. It should return a sequence of state ids and the return (sum of the rewards) of the episode. We will not use reward discounting in this example. The possible actions are always numbered 0, 1 etc. \n"
   ]
  },
  {
   "cell_type": "code",
   "execution_count": 8,
   "id": "e6a323ba-88d5-4f08-9228-836370df55ce",
   "metadata": {
    "deletable": false,
    "nbgrader": {
     "cell_type": "code",
     "checksum": "a5487309a240a4aae041a26ec31383b6",
     "grade": false,
     "grade_id": "cell-2745c50a8798711d",
     "locked": false,
     "schema_version": 3,
     "solution": true,
     "task": false
    }
   },
   "outputs": [],
   "source": [
    "def sample_episode(start: RState, policy) -> ([], float):\n",
    "    s = start\n",
    "    r = 0\n",
    "    nr_actions = policy.shape[1]\n",
    "    \n",
    "    # the trajectory is a list of [state_id, action, reward] lists for each state taken\n",
    "    trajectory = []\n",
    "    # YOUR CODE HERE\n",
    "    \n",
    "    while s._is_terminal == False:\n",
    "        possible_actions = policy[s.state_id]\n",
    "        #choose action 0 or 1 with possibilies inside matrix\n",
    "        choosen_action = np.random.choice(nr_actions, p=possible_actions)\n",
    "        next_state, reward = s.take_action(choosen_action)\n",
    "        trajectory.append([s, choosen_action, reward])\n",
    "        r += reward\n",
    "        s = next_state\n",
    "    \n",
    "    return trajectory, r"
   ]
  },
  {
   "cell_type": "code",
   "execution_count": 9,
   "id": "753c76c5-62d6-4513-a26a-21a436c379e0",
   "metadata": {
    "deletable": false,
    "editable": false,
    "nbgrader": {
     "cell_type": "code",
     "checksum": "b19bfb140be57429668fd1d90327d446",
     "grade": true,
     "grade_id": "cell-c98f5b759b42a980",
     "locked": true,
     "points": 2,
     "schema_version": 3,
     "solution": false,
     "task": false
    }
   },
   "outputs": [
    {
     "name": "stdout",
     "output_type": "stream",
     "text": [
      "[[<__main__.RState object at 0x7f7b01fc5820>, 1, -1]] -1\n",
      "-4.01\n"
     ]
    }
   ],
   "source": [
    "t, r = sample_episode(s0, policy)\n",
    "print(t, r)\n",
    "assert len(t) >= 1\n",
    "assert r <= -1.0\n",
    "\n",
    "results = []\n",
    "for i in range(100):\n",
    "    t, r = sample_episode(s0, policy)\n",
    "    results.append(r)\n",
    "\n",
    "r_array = np.array(results)\n",
    "mean = np.mean(r_array)\n",
    "print(mean)\n",
    "\n",
    "assert mean < -1.0"
   ]
  },
  {
   "cell_type": "markdown",
   "id": "9a9bc562-c05a-4449-a91c-55640210ef51",
   "metadata": {},
   "source": [
    "A random policy is certainly not optimal, so we would like to find a optimal one. But as we do yet know how to calculate an optimal policy, we will have to guess.\n",
    "\n",
    "There are 2 possiblities:\n",
    "* We always take action $A_1$ in $S_0$, and either reach $S_2$ immediately with 50% chance, or stay in $S_0$ and try again.\n",
    "* We take action $A_0$ in $S_0$ and again in $S_1$. This gives as a higher chance to reach the next state, but it takes 2 steps. We never want to take action $A_1$ in $S_1$ as this would put us back to the start state.\n",
    "\n",
    "\n",
    "Implement both these policies and calculate the mean return over 100 episodes? Which one is better?"
   ]
  },
  {
   "cell_type": "code",
   "execution_count": 10,
   "id": "992fa094-5130-4fed-bfee-9fe15aae0e20",
   "metadata": {
    "deletable": false,
    "nbgrader": {
     "cell_type": "code",
     "checksum": "36421ea867d9006dd0b1174bc0d22ac6",
     "grade": false,
     "grade_id": "cell-a969dd6916329449",
     "locked": false,
     "schema_version": 3,
     "solution": true,
     "task": false
    }
   },
   "outputs": [],
   "source": [
    "# Change the policy, so that it is optimal\n",
    "policy_0 = np.zeros((2, 2))\n",
    "policy_1 = np.zeros((2, 2))\n",
    "\n",
    "# fill in the policies\n",
    "# YOUR CODE HERE\n",
    "policy_0 = np.array([[0,1], [0.5,0.5]])\n",
    "policy_1 = np.array([[1,0], [1,0]])\n"
   ]
  },
  {
   "cell_type": "code",
   "execution_count": 11,
   "id": "7d39265e-1e98-4123-a553-dd1c34aa0037",
   "metadata": {
    "deletable": false,
    "editable": false,
    "nbgrader": {
     "cell_type": "code",
     "checksum": "9d301a7c056a2eb104cf37121971ae0c",
     "grade": true,
     "grade_id": "cell-b4276fe2c3f27199",
     "locked": true,
     "points": 2,
     "schema_version": 3,
     "solution": false,
     "task": false
    }
   },
   "outputs": [
    {
     "name": "stdout",
     "output_type": "stream",
     "text": [
      "-1.84 -5.15\n"
     ]
    }
   ],
   "source": [
    "def evaluate_policy(policy, start):\n",
    "    results = []\n",
    "    for i in range(100):\n",
    "        t, r = sample_episode(start, policy)\n",
    "        results.append(r)\n",
    "    r_array = np.array(results)\n",
    "    return np.mean(r_array)\n",
    "\n",
    "\n",
    "mean_0 = evaluate_policy(policy_0, s0)\n",
    "mean_1 = evaluate_policy(policy_1, s0)\n",
    "\n",
    "assert mean_0 < -1.0\n",
    "assert mean_1 < -1.0\n",
    "print(mean_0, mean_1)"
   ]
  },
  {
   "cell_type": "markdown",
   "id": "83bbf81b-f651-4da1-8f90-13922c253626",
   "metadata": {},
   "source": [
    "It seems that the first policy is better.\n",
    "\n",
    "In the lecture, we have seen that we can solve a MDP using a system of equations. If we only look at state $S_0$, can you write and solve the equation for that state?\n",
    "\n",
    "What is the value function for $S_0$? Type your value in the next cell."
   ]
  },
  {
   "cell_type": "markdown",
   "id": "b87b68e9-9e5e-4cfb-b423-9569b25ce6d3",
   "metadata": {
    "deletable": false,
    "nbgrader": {
     "cell_type": "markdown",
     "checksum": "86cc402c32f750fbac7557b2a0170e70",
     "grade": true,
     "grade_id": "cell-3ac3a3c423239633",
     "locked": false,
     "points": 2,
     "schema_version": 3,
     "solution": true,
     "task": false
    }
   },
   "source": []
  },
  {
   "cell_type": "markdown",
   "id": "7f75fab0-ad15-4dd8-b904-bd43e6e699fb",
   "metadata": {},
   "source": [
    "## Gridworld environment\n",
    "\n",
    "We would like to use a gridworld environment in some of the exercises. Using the state class above, the following class definition defines a gridworld where an action in each direction (N, E, S, W) takes you to the neighboring cell except on the border where you stay in the same position.\n",
    "\n"
   ]
  },
  {
   "cell_type": "code",
   "execution_count": 12,
   "id": "f34f9652-7d13-4833-a8ff-0a4b37ff14c0",
   "metadata": {},
   "outputs": [],
   "source": [
    "\n",
    "class MDPGridworld:\n",
    "    \"\"\"\n",
    "    MDP describing a gridworld.\n",
    "\n",
    "    - States are (logically) distributed in a grid of size width x height\n",
    "    - States are kept in 1D array by their state id\n",
    "    - Actions are up, down, left, right (N, S, W, E)\n",
    "    - Actions take you to the neighboring state per default, unless you are at the border\n",
    "    - Action behaviour can be changed to be stochastic, or to transition to a different state\n",
    "\n",
    "    - The origin of the coordinate system is in the upper left corner with x0 going down and x1 going right\n",
    "    - This corresponds to the matrix indexing in numpy\n",
    "\n",
    "    \"\"\"\n",
    "    N = 0\n",
    "    E = 1\n",
    "    S = 2\n",
    "    W = 3\n",
    "    NR_ACTIONS = 4\n",
    "\n",
    "    def __init__(self, height, width):\n",
    "        self._height = height\n",
    "        self._width = width\n",
    "        self._states = np.empty((height * width), dtype=object)\n",
    "\n",
    "        # create the states first\n",
    "        for x0 in range(self._height):\n",
    "            for x1 in range(self._width):\n",
    "                state_id = self.pos_to_id(x0, x1)\n",
    "                s = RState(state_id)\n",
    "                self._states[state_id] = s\n",
    "\n",
    "        # create the transitions\n",
    "        for x0 in range(self._height):\n",
    "            for x1 in range(self._width):\n",
    "                state_id = self.pos_to_id(x0, x1)\n",
    "                s = self._states[state_id]\n",
    "\n",
    "                # make a default grid with 4 actions for each state and connections to the neighbors\n",
    "                # North\n",
    "                if x0 != 0:\n",
    "                    s.add_transition(self.N, self._states[self.pos_to_id(x0 - 1, x1)], -1.0, 1.0)\n",
    "                else:\n",
    "                    s.add_transition(self.N, self._states[self.pos_to_id(x0, x1)], -1.0, 1.0)\n",
    "\n",
    "                # South\n",
    "                if x0 != self._height - 1:\n",
    "                    s.add_transition(self.S, self._states[self.pos_to_id(x0 + 1, x1)], -1.0, 1.0)\n",
    "                else:\n",
    "                    s.add_transition(self.S, self._states[self.pos_to_id(x0, x1)], -1.0, 1.0)\n",
    "                # West\n",
    "                if x1 != 0:\n",
    "                    s.add_transition(self.W, self._states[self.pos_to_id(x0, x1 - 1)], -1.0, 1.0)\n",
    "                else:\n",
    "                    s.add_transition(self.W, self._states[self.pos_to_id(x0, x1)], -1.0, 1.0)\n",
    "\n",
    "                # East\n",
    "                if x1 != self._width - 1:\n",
    "                    s.add_transition(self.E, self._states[self.pos_to_id(x0, x1 + 1)], -1.0, 1.0)\n",
    "                else:\n",
    "                    s.add_transition(self.E, self._states[self.pos_to_id(x0, x1)], -1.0, 1.0)\n",
    "\n",
    "    def state(self, x0, x1):\n",
    "        return self._states[self.pos_to_id(x0, x1)]\n",
    "\n",
    "    def pos_to_id(self, x0, x1) -> int:\n",
    "        return x1 * self._height + x0\n",
    "\n",
    "    def id_to_pos(self, id) -> (int, int):\n",
    "        return id % self._height, id // self._height\n",
    "\n",
    "    def all_state_ids(self):\n",
    "        ids = np.zeros((self._height, self._width), dtype=int)\n",
    "        for x0 in range(self._height):\n",
    "            for x1 in range(self._width):\n",
    "                ids[x0, x1] = self.pos_to_id(x0, x1)\n",
    "        return ids\n",
    "\n",
    "    def take_action(self, x0, x1, action) -> (int, int, float):\n",
    "        \"\"\"\n",
    "            Take an action in the grid to get the next position and reward.\n",
    "\n",
    "            Actions can also be performed directly using the underlying state objects. This method is just a\n",
    "            convenience when you want to use the positions instead.\n",
    "        Args:\n",
    "            x0: x0 coordinate of the state\n",
    "            x1: x1 coordinate of the state\n",
    "            action: the action to take\n",
    "\n",
    "        Returns:\n",
    "            the next state and reward\n",
    "        \"\"\"\n",
    "        state, reward = self._states[self.pos_to_id(x0, x1)].take_action(action)\n",
    "        x0, x1 = self.id_to_pos(state.state_id)\n",
    "        return x0, x1, reward\n"
   ]
  },
  {
   "cell_type": "code",
   "execution_count": 13,
   "id": "f712f774-804f-427f-9719-f13b144019d9",
   "metadata": {},
   "outputs": [],
   "source": [
    "g = MDPGridworld(3, 4)\n",
    "g.state(0,0).is_terminal = True\n",
    "for i in range(12):\n",
    "    assert g.pos_to_id(g.id_to_pos(i)[0],g.id_to_pos(i)[1]) == i\n"
   ]
  },
  {
   "cell_type": "code",
   "execution_count": 14,
   "id": "f82cc34f-ce6a-4989-8779-c46c48ab72a6",
   "metadata": {},
   "outputs": [
    {
     "data": {
      "image/png": "[encoded data removed]",
      "text/plain": [
       "<Figure size 640x480 with 1 Axes>"
      ]
     },
     "metadata": {},
     "output_type": "display_data"
    }
   ],
   "source": [
    "# Let us plot the gridworld\n",
    "g = MDPGridworld(3, 4)\n",
    "g.state(2,3).is_terminal = True\n",
    "ids = g.all_state_ids()\n",
    "\n",
    "fig, ax = plt.subplots()\n",
    "ax.matshow(ids, cmap='Blues', vmin=0, vmax=0)\n",
    "for i in range(ids.shape[0]):\n",
    "    for j in range(ids.shape[1]):\n",
    "        c = ids[i,j]\n",
    "        ax.text(j, i, f'{c:.0f}', va='center', ha='center')\n",
    "\n",
    "        if g.state(i,j).is_terminal:\n",
    "            r = plt.Rectangle((j-0.5,i-0.5), 1, 1, fill=True)\n",
    "            ax.add_patch(r)\n",
    "        \n",
    "        r = plt.Rectangle((j-0.5,i-0.5), 1, 1, fill=False)\n",
    "        ax.add_patch(r)\n",
    "        "
   ]
  },
  {
   "cell_type": "markdown",
   "id": "31e9a6b0-0d39-4666-80e9-57f6f0b730d6",
   "metadata": {},
   "source": [
    "The sample_episode method that you have defined earlier should already work for the states in the gridworld (if not, go back and check how you sample from the action, here you have 4 actions, while you had only 2 before).\n",
    "\n",
    "\n",
    "Define a uniformely random policy for the gridworld and evaluate how long it will take to reach the terminal state from state(0,0)."
   ]
  },
  {
   "cell_type": "code",
   "execution_count": 15,
   "id": "28fd87fc-85c8-4909-b49c-55f026f320f1",
   "metadata": {
    "deletable": false,
    "nbgrader": {
     "cell_type": "code",
     "checksum": "d54cd4b08d5342307efe9daa6acfbf99",
     "grade": false,
     "grade_id": "cell-040fc8421b31fbd0",
     "locked": false,
     "schema_version": 3,
     "solution": true,
     "task": false
    }
   },
   "outputs": [],
   "source": [
    "policy = None\n",
    "\n",
    "# generate the correct uniformly random policy for the gridworld\n",
    "\n",
    "\n",
    "# YOUR CODE HERE\n",
    "policy = np.full((12,4), 0.25)"
   ]
  },
  {
   "cell_type": "code",
   "execution_count": 16,
   "id": "ad0144bd-cc0b-437c-873a-d1b00b52d29a",
   "metadata": {
    "deletable": false,
    "editable": false,
    "nbgrader": {
     "cell_type": "code",
     "checksum": "b72f0f55820178b25fd5dc69d706c69a",
     "grade": true,
     "grade_id": "cell-02262923d966a1c1",
     "locked": true,
     "points": 1,
     "schema_version": 3,
     "solution": false,
     "task": false
    }
   },
   "outputs": [
    {
     "name": "stdout",
     "output_type": "stream",
     "text": [
      "-38.72\n"
     ]
    }
   ],
   "source": [
    "start = g.state(0,0)\n",
    "\n",
    "r = evaluate_policy(policy, start)\n",
    "\n",
    "print(r)"
   ]
  },
  {
   "cell_type": "markdown",
   "id": "5f33b67f-0197-4035-b9f8-80c97ac10178",
   "metadata": {},
   "source": [
    "## Bonus exercise: Slippery Gridworld\n",
    "\n",
    "Using the gridworld above, we want to define a class for the slippery gridworld introduced in the lecture.\n",
    "\n",
    "On a slippery grid cell, the specified probability defines the probability to fall to the next south position (x0+1). Add the body of the function below."
   ]
  },
  {
   "cell_type": "code",
   "execution_count": 21,
   "id": "9696689b-479a-4ea7-81b6-2815ac5d2273",
   "metadata": {
    "deletable": false,
    "nbgrader": {
     "cell_type": "code",
     "checksum": "5e5bbe055a1ca031c27b6bf69adfd02e",
     "grade": false,
     "grade_id": "cell-3cc7f754129de104",
     "locked": false,
     "schema_version": 3,
     "solution": true,
     "task": false
    }
   },
   "outputs": [],
   "source": [
    "class SlipperyGridworld(MDPGridworld):\n",
    "    def add_slippery_patch(self, x0, x1, probability):\n",
    "        \"\"\"\n",
    "        Add a patch of slippery ground to the gridworld. This means that the agent has a chance of slipping down\n",
    "        one grid position on any of the actions (N, E, W) taken\n",
    "        Args:\n",
    "            x0: the x0 coordinate of the patch\n",
    "            x1: the x1 coordinate of the patch\n",
    "            probability: the probability to slip and fall one grid position down (S)\n",
    "        \"\"\"\n",
    "        # YOUR CODE HERE\n",
    "        current_state = self.state(x0, x1)\n",
    "        \n",
    "        # if not outside boundary (man müsste theoretisch auch noch testen, ob es ein Grenzzustand an der unteren Grenze ist.\n",
    "        fallen_state = self.state(x0+1, x1)\n",
    "\n",
    "        # do for each action in current_state (-1 is reward for all actions)\n",
    "        current_state.add_transition_rescale(self.N, fallen_state, -1, probability)\n",
    "        current_state.add_transition_rescale(self.E, fallen_state, -1, probability)\n",
    "        current_state.add_transition_rescale(self.S, fallen_state, -1, probability)\n",
    "        current_state.add_transition_rescale(self.W, fallen_state, -1, probability)"
   ]
  },
  {
   "cell_type": "code",
   "execution_count": 22,
   "id": "0ac756f8-2016-4b1a-a84e-b211810adc1f",
   "metadata": {
    "deletable": false,
    "editable": false,
    "nbgrader": {
     "cell_type": "code",
     "checksum": "52c6d5c4dd1775d5cdfeafa339e16550",
     "grade": true,
     "grade_id": "cell-29a2d553a0fd2662",
     "locked": true,
     "points": 2,
     "schema_version": 3,
     "solution": false,
     "task": false
    }
   },
   "outputs": [],
   "source": [
    "gs = SlipperyGridworld(6,3)\n",
    "gs.add_slippery_patch(3, 2, 0.2)\n",
    "transitions = gs._states[gs.pos_to_id(3, 2)]._transitions[gs.W]\n",
    "assert len(transitions) == 2\n",
    "assert transitions[0][0] == 0.8\n",
    "assert transitions[1][0] == 0.2"
   ]
  },
  {
   "cell_type": "code",
   "execution_count": null,
   "id": "7575707e-6314-42f9-951e-b3e96b83d0de",
   "metadata": {},
   "outputs": [],
   "source": []
  }
 ],
 "metadata": {
  "kernelspec": {
   "display_name": "Python 3 (ipykernel)",
   "language": "python",
   "name": "python3"
  },
  "language_info": {
   "codemirror_mode": {
    "name": "ipython",
    "version": 3
   },
   "file_extension": ".py",
   "mimetype": "text/x-python",
   "name": "python",
   "nbconvert_exporter": "python",
   "pygments_lexer": "ipython3",
   "version": "3.12.8"
  }
 },
 "nbformat": 4,
 "nbformat_minor": 5
}
